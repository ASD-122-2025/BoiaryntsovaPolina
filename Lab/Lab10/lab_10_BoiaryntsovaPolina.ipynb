{
 "cells": [
  {
   "cell_type": "markdown",
   "id": "0ffd2cd5-1e4c-4741-8ec2-36a98499e3ff",
   "metadata": {},
   "source": [
    "# Лабораторна робота №10\n",
    "## Тема: Стиснення даних. Жадібна стратегія на прикладі кодування Гафмена \n",
    "### Виконала: Бояринцова Поліна\n",
    "### Група: КН-24-1\n",
    "### Дата: 22.06.2025"
   ]
  },
  {
   "cell_type": "markdown",
   "id": "9540eff6-9206-45dc-9953-812f4ff63442",
   "metadata": {},
   "source": [
    "## 1. Реалізація прикладу алгоритму побудови дерева Гафмена"
   ]
  },
  {
   "cell_type": "code",
   "execution_count": 1,
   "id": "d33e5a73-2d3b-49c0-93a2-aa8e0f9c1b3c",
   "metadata": {},
   "outputs": [
    {
     "name": "stdout",
     "output_type": "stream",
     "text": [
      "b -> 00\n",
      "f -> 010\n",
      "c -> 0110\n",
      "d -> 0111\n",
      "e -> 100\n",
      "g -> 101\n",
      "a -> 11\n"
     ]
    }
   ],
   "source": [
    "import heapq\n",
    "\n",
    "# Вузол дерева Гафмена\n",
    "class Node:\n",
    "    def __init__(self, freq, symbol, left=None, right=None):\n",
    "        self.freq = freq\n",
    "        self.symbol = symbol\n",
    "        self.left = left\n",
    "        self.right = right\n",
    "        self.huff = ''\n",
    "    \n",
    "    # Для порівняння в heapq\n",
    "    def __lt__(self, other):\n",
    "        return self.freq < other.freq\n",
    "\n",
    "# Рекурсивний обхід дерева\n",
    "def printNodes(node, val=''):\n",
    "    newVal = val + str(node.huff)\n",
    "    if node.left:\n",
    "        printNodes(node.left, newVal)\n",
    "    if node.right:\n",
    "        printNodes(node.right, newVal)\n",
    "    if not node.left and not node.right:\n",
    "        print(f\"{node.symbol} -> {newVal}\")\n",
    "\n",
    "# Дані\n",
    "chars = ['a', 'b', 'c', 'd', 'e', 'f', 'g']\n",
    "freq = [10, 7, 2, 2, 4, 4, 5]\n",
    "\n",
    "# Побудова купи\n",
    "nodes = []\n",
    "for i in range(len(chars)):\n",
    "    heapq.heappush(nodes, Node(freq[i], chars[i]))\n",
    "\n",
    "while len(nodes) > 1:\n",
    "    left = heapq.heappop(nodes)\n",
    "    right = heapq.heappop(nodes)\n",
    "    left.huff = 0\n",
    "    right.huff = 1\n",
    "    newNode = Node(left.freq + right.freq, left.symbol + right.symbol, left, right)\n",
    "    heapq.heappush(nodes, newNode)\n",
    "\n",
    "# Виведення кодів\n",
    "printNodes(nodes[0])"
   ]
  },
  {
   "cell_type": "markdown",
   "id": "754a9d46-08be-4077-9ac3-564cea84f560",
   "metadata": {},
   "source": [
    "## 2. Виконання завдання з наданим прикладом"
   ]
  },
  {
   "cell_type": "markdown",
   "id": "936d46e5-260f-4b5a-b0fe-72129c8d4c0b",
   "metadata": {},
   "source": [
    "### 2.1. Розв'язання завдання за алгоритмом Гафмена вручну"
   ]
  },
  {
   "cell_type": "markdown",
   "id": "74ec8909-7c7c-46bc-979d-2a34b02c987c",
   "metadata": {},
   "source": [
    "![розв'язання_вручну](images/1.jpg)"
   ]
  },
  {
   "cell_type": "markdown",
   "id": "3e358138-28c9-4220-8e9b-457def084ef4",
   "metadata": {},
   "source": [
    "![розв'язання_вручну](images/2.jpg)"
   ]
  },
  {
   "cell_type": "markdown",
   "id": "43b0cd27-fc09-4c77-810d-01e440feea21",
   "metadata": {},
   "source": [
    "### 2.2. Перевірка результату за допомогою коду."
   ]
  },
  {
   "cell_type": "code",
   "execution_count": 8,
   "id": "d5b372e5-9066-40f2-a033-baffec34d1d8",
   "metadata": {
    "scrolled": true
   },
   "outputs": [
    {
     "name": "stdout",
     "output_type": "stream",
     "text": [
      "Частоти символів:\n",
      "'A': 10\n",
      "'B': 7\n",
      "'C': 2\n",
      "'D': 2\n",
      "'E': 4\n",
      "'F': 4\n",
      "'G': 5\n",
      "\n",
      "Коди Гафмена:\n",
      "A : 11\n",
      "B : 00\n",
      "C : 0110\n",
      "D : 0111\n",
      "E : 100\n",
      "F : 010\n",
      "G : 101\n",
      "\n",
      "Закодовані дані Гафмена:\n",
      "11001100011011110111100100101101010101010110000110011110001100011110111100100101010101010\n",
      "\n",
      "Декодовані дані Гафмена:\n",
      "ABABCAADEEGGFGFABBABAABCBAADEEGFGF\n",
      "\n",
      "Декодований рядок збігається з оригіналом: True\n"
     ]
    }
   ],
   "source": [
    "# A Вузол дерева Гафмена\n",
    "import heapq\n",
    "from collections import defaultdict\n",
    "\n",
    "# для відображення кожного символу на його значення Гафмена\n",
    "codes = {}\n",
    "\n",
    "# Для зберігання частоти символів вхідних даних\n",
    "freq = defaultdict(int)\n",
    "\n",
    "# Вузол дерева Гафмена\n",
    "class MinHeapNode:\n",
    "    def __init__(self, data, freq):\n",
    "        self.left = None\n",
    "        self.right = None\n",
    "        self.data = data\n",
    "        self.freq = freq\n",
    "\n",
    "    def __lt__(self, other):\n",
    "        # Порівняння вузлів на основі їх частоти\n",
    "        return self.freq < other.freq\n",
    "\n",
    "# допоміжна функція для виведення символів разом з\n",
    "# їх значеннями Гафмена\n",
    "def printCodes(root, str_val):\n",
    "    if root is None:\n",
    "        return\n",
    "    if root.data != '$': # '$' використовується для внутрішніх вузлів\n",
    "        print(root.data, \":\", str_val)\n",
    "    printCodes(root.left, str_val + \"0\")\n",
    "    printCodes(root.right, str_val + \"1\")\n",
    "\n",
    "# допоміжна функція для зберігання символів разом з\n",
    "# їх значеннями Гафмена в хеш-таблиці\n",
    "def storeCodes(root, str_val):\n",
    "    if root is None:\n",
    "        return\n",
    "    if root.data != '$':\n",
    "        codes[root.data] = str_val\n",
    "    storeCodes(root.left, str_val + \"0\")\n",
    "    storeCodes(root.right, str_val + \"1\")\n",
    "\n",
    "# функція для побудови дерева Гафмена та зберігання його\n",
    "# в minHeap\n",
    "def HuffmanCodes():\n",
    "    global minHeap\n",
    "    # Додаємо всі вузли символів до minHeap\n",
    "    for key in freq:\n",
    "        heapq.heappush(minHeap, MinHeapNode(key, freq[key]))\n",
    "\n",
    "    # Будуємо дерево Гафмена\n",
    "    while len(minHeap) != 1:\n",
    "        # Витягуємо два вузли з найменшою частотою\n",
    "        left = heapq.heappop(minHeap)\n",
    "        right = heapq.heappop(minHeap)\n",
    "\n",
    "        # Створюємо новий внутрішній вузол\n",
    "        top = MinHeapNode('$', left.freq + right.freq)\n",
    "        top.left = left\n",
    "        top.right = right\n",
    "        heapq.heappush(minHeap, top)\n",
    "    \n",
    "    # Зберігаємо коди Гафмена після побудови дерева\n",
    "    storeCodes(minHeap[0], \"\")\n",
    "\n",
    "# допоміжна функція для відображення кожного символу на його\n",
    "# частоту у вхідному рядку\n",
    "def calcFreq(input_str):\n",
    "    for char in input_str:\n",
    "        freq[char] += 1\n",
    "\n",
    "# функція перебирає закодований рядок s\n",
    "# якщо s[i]=='1', то переходить до node->right\n",
    "# якщо s[i]=='0', то переходить до node->left\n",
    "# якщо це листовий вузол, додає node->data до нашого вихідного рядка\n",
    "def decode_file(root, s):\n",
    "    ans = \"\"\n",
    "    curr = root\n",
    "    n = len(s)\n",
    "    for i in range(n):\n",
    "        if s[i] == '0':\n",
    "            curr = curr.left\n",
    "        else:\n",
    "            curr = curr.right\n",
    "\n",
    "        # досягнуто листового вузла\n",
    "        if curr.left is None and curr.right is None:\n",
    "            ans += curr.data\n",
    "            curr = root # Повертаємося до кореня для наступного символу\n",
    "    return ans\n",
    "\n",
    "# Головний код\n",
    "if __name__ == \"__main__\":\n",
    "    minHeap = []\n",
    "    # Вхідний рядок для обробки\n",
    "    input_str = \"ABABCAADEEGGFGFABBABAABCBAADEEGFGF\" # Використовуємо рядок з попереднього запиту\n",
    "\n",
    "    # Обчислюємо частоту символів\n",
    "    calcFreq(input_str)\n",
    "\n",
    "    # Будуємо коди Гафмена\n",
    "    HuffmanCodes()\n",
    "\n",
    "    print(\"Частоти символів:\")\n",
    "    for char, frequency in sorted(freq.items()):\n",
    "        print(f\"'{char}': {frequency}\")\n",
    "\n",
    "    print(\"\\nКоди Гафмена:\")\n",
    "    for key in sorted(codes):\n",
    "        print(key, \":\", codes[key])\n",
    "\n",
    "    # Кодуємо вхідний рядок\n",
    "    encodedString = \"\"\n",
    "    for char in input_str:\n",
    "        encodedString += codes[char]\n",
    "\n",
    "    print(\"\\nЗакодовані дані Гафмена:\")\n",
    "    print(encodedString)\n",
    "\n",
    "    # Декодуємо закодований рядок\n",
    "    decodedString = decode_file(minHeap[0], encodedString)\n",
    "    print(\"\\nДекодовані дані Гафмена:\")\n",
    "    print(decodedString)\n",
    "\n",
    "    # Перевірка, чи збігається декодований рядок з оригіналом\n",
    "    print(f\"\\nДекодований рядок збігається з оригіналом: {decodedString == input_str}\")"
   ]
  },
  {
   "cell_type": "markdown",
   "id": "9bd3e3be-04d8-45d7-93de-66414974d6dd",
   "metadata": {},
   "source": [
    ">Як можна побачити, вручну розв'язання *не дійшло до глобального оптимуму.* Є краще рішення. Спробуємо його знайти."
   ]
  },
  {
   "cell_type": "markdown",
   "id": "8c0aeb08-0e17-468e-8e45-7c488c4dd84a",
   "metadata": {},
   "source": [
    "![краще_розв'язання](images/3.jpg)"
   ]
  },
  {
   "cell_type": "markdown",
   "id": "aab6f38b-3a23-4b5f-a99a-0531337e326c",
   "metadata": {},
   "source": [
    "## 3. Контрольні питання"
   ]
  },
  {
   "cell_type": "markdown",
   "id": "d6f87458-d10d-4333-8221-a2b20c3a0887",
   "metadata": {},
   "source": [
    "### 1. Що таке жадібні алгоритми?"
   ]
  },
  {
   "cell_type": "markdown",
   "id": "fa9a043f-92d8-469b-bbff-6a734ce9fae2",
   "metadata": {},
   "source": [
    "Жадібні алгоритми — це методи розв’язання задач, у яких на кожному кроці вибирається локально оптимальне рішення (тобто найкраще на даний момент) з надією, що така стратегія приведе до глобального оптимуму."
   ]
  },
  {
   "cell_type": "markdown",
   "id": "96377e3a-2156-49fc-b047-e53c9f32a5de",
   "metadata": {},
   "source": [
    "### 2. Що таке префіксний код? Який код використовується у коді Гафмена? "
   ]
  },
  {
   "cell_type": "markdown",
   "id": "0e95b761-f641-4d85-b961-57873d675582",
   "metadata": {},
   "source": [
    "Префіксний код — це такий код, у якому жодне закодоване значення не є префіксом іншого.\n",
    "Це дозволяє однозначно декодувати будь-яку послідовність без роздільників.\n",
    "\n",
    "Код Гафмена — це префіксний двійковий код, який базується на частоті символів: символи з більшою частотою мають коротші коди, а з меншою — довші."
   ]
  },
  {
   "cell_type": "markdown",
   "id": "1b431cb9-8a61-4ce5-84b7-f339bb0e07d9",
   "metadata": {},
   "source": [
    "### 3. Як пов’язана структура даних «купа» зі структурою даних «черга з пріоритетами»? "
   ]
  },
  {
   "cell_type": "markdown",
   "id": "58ecfc5f-bde2-466d-bc52-81dce2a7e5be",
   "metadata": {},
   "source": [
    "**Купа (heap)** — це структура даних на основі бінарного дерева, в якій батьківський елемент має більший або менший пріоритет, ніж його нащадки.  \n",
    "**Черга з пріоритетами** — це абстракція, яка дозволяє швидко витягати елемент із найвищим (або найнижчим) пріоритетом.  \n",
    "*Зв’язок:* Купа є ефективною реалізацією черги з пріоритетами.  \n",
    "Наприклад, мін-купа дозволяє за O(logn) додавати елементи і за O(logn) витягати найменший."
   ]
  },
  {
   "cell_type": "markdown",
   "id": "7a9169d9-2a91-4a01-9057-af44e51a098d",
   "metadata": {},
   "source": [
    "### 4. Що таке стиснення даних і для чого воно використовується? Які його основні переваги? "
   ]
  },
  {
   "cell_type": "markdown",
   "id": "e77955ed-c42f-4b30-af35-060d0d7d4e51",
   "metadata": {},
   "source": [
    "Стиснення даних — це процес перетворення даних у форму, що займає менше пам’яті або обсягу для зберігання чи передавання.\n",
    "Основні переваги:\n",
    "\n",
    "- Зменшення обсягу пам’яті.\n",
    "- Прискорення передачі даних по мережі.\n",
    "- Зменшення вартості зберігання або обслуговування.\n",
    "- Підвищення ефективності архівування та резервного копіювання."
   ]
  },
  {
   "cell_type": "markdown",
   "id": "5468c849-6d99-49f8-bfcb-b51fe260bcae",
   "metadata": {},
   "source": [
    "### 5. Які кроки необхідно виконати для стиснення даних за допомогою алгоритму кодування Гафмена? "
   ]
  },
  {
   "cell_type": "markdown",
   "id": "1b2c5815-ae88-4d3b-8cc8-9b467aeae400",
   "metadata": {},
   "source": [
    "1. Обчислити частоти всіх символів у тексті.\n",
    "2. Створити вузли для кожного символу з вагою (частотою).\n",
    "3. Помістити вузли в мін-купу (чергу з пріоритетами).\n",
    "4. Побудувати дерево Гафмена, об’єднуючи найменші вузли.\n",
    "5. Присвоїти коди кожному символу, проходячи по дереву (0 — вліво, 1 — вправо).\n",
    "6. Закодувати текст, замінюючи символи на їхні коди.\n",
    "7. (Опціонально) Зберегти дерево або таблицю кодів для декодування."
   ]
  },
  {
   "cell_type": "markdown",
   "id": "4465e0d6-936b-4a95-bfe0-24928ad52395",
   "metadata": {},
   "source": [
    "### 6. Які основні обмеження та недоліки алгоритму кодування Гафмена? Чи можливо покращити його продуктивність? "
   ]
  },
  {
   "cell_type": "markdown",
   "id": "80384de3-d191-41a2-91cd-165877e6066b",
   "metadata": {},
   "source": [
    "**Обмеження:**  \n",
    "\n",
    "- Ефективність зменшується, якщо частоти символів мало відрізняються.  \n",
    "- Не підходить для потокових даних без попереднього аналізу частот.  \n",
    "- Не оптимальний для невеликих повідомлень.   \n",
    "**Можливі покращення:**\n",
    "  \n",
    "- Використання адаптивного Гафмена (оновлює дерево на ходу).  \n",
    "- Комбінування з іншими методами.  "
   ]
  },
  {
   "cell_type": "markdown",
   "id": "00cdbfb9-ca48-4c46-97fc-a388515a5246",
   "metadata": {},
   "source": [
    "### 7. Які існують альтернативні методи стиснення даних, що можуть конкурувати з алгоритмом Гафмена? "
   ]
  },
  {
   "cell_type": "markdown",
   "id": "f4de6652-2e2c-4674-822f-3eb3fab15300",
   "metadata": {},
   "source": [
    "Альтернативи:\n",
    "\n",
    "- Арифметичне кодування — часто ефективніше за Гафмена.  \n",
    "- LZ77 / LZ78 / LZW — використовуються в ZIP, GIF.  \n",
    "- RLE (Run-Length Encoding) — ефективне для повторюваних символів.  \n",
    "- DEFLATE (комбінація LZ77 + Huffman) — основа ZIP, PNG.  "
   ]
  },
  {
   "cell_type": "markdown",
   "id": "c5ba3d55-da72-4b6d-9cd8-e9a2a590aea3",
   "metadata": {},
   "source": [
    "### 8. Які практичні застосування можуть мати алгоритми стиснення даних, зокрема алгоритм Гафмена, у сучасних інформаційних системах? "
   ]
  },
  {
   "cell_type": "markdown",
   "id": "cb51cb05-1f2c-4b5f-b193-3df7930ffb20",
   "metadata": {},
   "source": [
    "Застосування:\n",
    "\n",
    "- Формати файлів: ZIP, PNG, MP3 (як частина алгоритму).  \n",
    "- Архіватори: WinRAR, 7-Zip, gzip (частково Гафмен).  \n",
    "- Передача даних по мережі.  \n",
    "- Операційні системи: для стискання логів, резервних копій.  \n",
    "- Інформаційна безпека: зменшення розміру перед шифруванням.  \n",
    "- Мобільні пристрої: економія пам’яті та трафіку.  "
   ]
  },
  {
   "cell_type": "code",
   "execution_count": null,
   "id": "955a1a40-a8a4-45e5-9a93-96296905c93f",
   "metadata": {},
   "outputs": [],
   "source": []
  }
 ],
 "metadata": {
  "kernelspec": {
   "display_name": "BoiaryntsovaPolina_OpenCV",
   "language": "python",
   "name": "boiaryntsovapolina_opencv"
  },
  "language_info": {
   "codemirror_mode": {
    "name": "ipython",
    "version": 3
   },
   "file_extension": ".py",
   "mimetype": "text/x-python",
   "name": "python",
   "nbconvert_exporter": "python",
   "pygments_lexer": "ipython3",
   "version": "3.10.16"
  }
 },
 "nbformat": 4,
 "nbformat_minor": 5
}

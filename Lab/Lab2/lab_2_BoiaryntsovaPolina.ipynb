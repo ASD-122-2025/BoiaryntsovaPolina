{
 "cells": [
  {
   "cell_type": "markdown",
   "id": "e8188cc5-83e8-4160-81f4-ccacdecbf464",
   "metadata": {},
   "source": [
    "# Лабораторна робота №2\n",
    "## Тема: Налагоджування та робота в середовищі Anaconda+Quarto\n",
    "### Виконала: Бояринцова Поліна\n",
    "### Група: КН-24-1\n",
    "### Дата: 10.03.2025"
   ]
  },
  {
   "cell_type": "markdown",
   "id": "9a48ab77-8928-4f75-a876-1deaec9cea2e",
   "metadata": {},
   "source": [
    "## 1. Завантаження та встановлення Anaconda  \n",
    "### 1.1 Завантаження  \n",
    "Перейдіть на сайт [Anaconda](https://www.anaconda.com/products/distribution) та завантажте дистрибутив для вашої операційної системи.  \n",
    "\n",
    "### 1.2 Встановлення  \n",
    "1. Запустіть інсталятор.  \n",
    "2. Оберіть \"Install for: Just Me (Recommended)\".  \n",
    "3. Вкажіть шлях (`C:\\Users\\ВашКористувач\\Anaconda3`).  \n",
    "4. Додайте Anaconda до змінних середовища (PATH).  \n",
    "5. Дочекайтеся завершення установки.  \n",
    "\n",
    "_Перевіримо встановлення:_  "
   ]
  },
  {
   "cell_type": "code",
   "execution_count": null,
   "id": "5bc1332e-65c4-4232-9657-492788456354",
   "metadata": {},
   "outputs": [],
   "source": [
    "!conda --version\n",
    "!python --version"
   ]
  },
  {
   "cell_type": "markdown",
   "id": "f3255416-c0eb-44eb-b6e2-17eece56f9c4",
   "metadata": {},
   "source": [
    "![Перевірка версій в консолі](images/3.jpg)"
   ]
  },
  {
   "cell_type": "markdown",
   "id": "3e11b28e-fdeb-4077-ada0-cb2317b1b577",
   "metadata": {},
   "source": [
    "## 2. Створення віртуального середовища  \n",
    "Після встановлення Anaconda створимо віртуальне середовище `StudentLastName_OpenCV`."
   ]
  },
  {
   "cell_type": "code",
   "execution_count": 3,
   "id": "0ae4bc5d-46f9-4dcd-b553-116639884a07",
   "metadata": {},
   "outputs": [
    {
     "name": "stdout",
     "output_type": "stream",
     "text": [
      "\n",
      "# conda environments:\n",
      "#\n",
      "base                   C:\\Users\\745_ATS\\anaconda3\n",
      "BoiaryntsovaPolina_OpenCV * C:\\Users\\745_ATS\\anaconda3\\envs\\BoiaryntsovaPolina_OpenCV\n",
      "\n"
     ]
    }
   ],
   "source": [
    "!conda env list"
   ]
  },
  {
   "cell_type": "markdown",
   "id": "7aac8b62-3bc5-454d-a2b9-d50d5195bf63",
   "metadata": {},
   "source": [
    "![Список середовищ](images/6.jpg)"
   ]
  },
  {
   "cell_type": "markdown",
   "id": "f2b943d1-e572-42d7-be21-60df82a32a97",
   "metadata": {},
   "source": [
    "## 3. Встановлення необхідних бібліотек  \n",
    "Встановимо OpenCV, NumPy та Matplotlib у створене середовище."
   ]
  },
  {
   "cell_type": "code",
   "execution_count": 4,
   "id": "a6cd8794-f90c-43dd-89ea-1016c5287123",
   "metadata": {
    "scrolled": true
   },
   "outputs": [
    {
     "name": "stdout",
     "output_type": "stream",
     "text": [
      "# packages in environment at C:\\Users\\745_ATS\\anaconda3\\envs\\BoiaryntsovaPolina_OpenCV:\n",
      "#\n",
      "# Name                    Version                   Build  Channel\n",
      "anyio                     4.6.2           py310haa95532_0  \n",
      "argon2-cffi               21.3.0             pyhd3eb1b0_0  \n",
      "argon2-cffi-bindings      21.2.0          py310h827c3e9_1  \n",
      "asttokens                 2.0.5              pyhd3eb1b0_0  \n",
      "async-lru                 2.0.4           py310haa95532_0  \n",
      "attrs                     24.3.0          py310haa95532_0  \n",
      "babel                     2.16.0          py310haa95532_0  \n",
      "beautifulsoup4            4.12.3          py310haa95532_0  \n",
      "blas                      1.0                         mkl  \n",
      "bleach                    6.2.0           py310haa95532_0  \n",
      "brotli-python             1.0.9           py310h5da7b33_9  \n",
      "bzip2                     1.0.8                h2bbff1b_6  \n",
      "ca-certificates           2025.2.25            haa95532_0  \n",
      "cairo                     1.16.0               hc68a040_5  \n",
      "certifi                   2025.1.31       py310haa95532_0  \n",
      "cffi                      1.17.1          py310h827c3e9_1  \n",
      "charset-normalizer        3.3.2              pyhd3eb1b0_0  \n",
      "colorama                  0.4.6           py310haa95532_0  \n",
      "comm                      0.2.1           py310haa95532_0  \n",
      "contourpy                 1.3.1           py310h214f63a_0  \n",
      "cycler                    0.11.0             pyhd3eb1b0_0  \n",
      "debugpy                   1.8.11          py310h5da7b33_0  \n",
      "decorator                 5.1.1              pyhd3eb1b0_0  \n",
      "defusedxml                0.7.1              pyhd3eb1b0_0  \n",
      "eigen                     3.4.0                h59b6b97_0  \n",
      "exceptiongroup            1.2.0           py310haa95532_0  \n",
      "executing                 0.8.3              pyhd3eb1b0_0  \n",
      "expat                     2.6.4                h8ddb27b_0  \n",
      "fontconfig                2.14.1               hb33846d_3  \n",
      "fonttools                 4.55.3          py310h827c3e9_0  \n",
      "freetype                  2.12.1               ha860e81_0  \n",
      "glib                      2.78.4               hd77b12b_0  \n",
      "glib-tools                2.78.4               hd77b12b_0  \n",
      "graphite2                 1.3.14               hd77b12b_1  \n",
      "gst-plugins-base          1.22.3               hfc3ed34_1  \n",
      "gstreamer                 1.22.3               h1779075_1  \n",
      "h11                       0.14.0          py310haa95532_0  \n",
      "harfbuzz                  10.2.0               hf458a27_0  \n",
      "hdf5                      1.14.5               ha36df97_2  \n",
      "httpcore                  1.0.2           py310haa95532_0  \n",
      "httpx                     0.27.0          py310haa95532_0  \n",
      "icc_rt                    2022.1.0             h6049295_2  \n",
      "icu                       73.1                 h6c2663c_0  \n",
      "idna                      3.7             py310haa95532_0  \n",
      "intel-openmp              2023.1.0         h59b6b97_46320  \n",
      "ipykernel                 6.29.5          py310haa95532_1  \n",
      "ipython                   8.30.0          py310haa95532_0  \n",
      "jedi                      0.19.2          py310haa95532_0  \n",
      "jinja2                    3.1.6           py310haa95532_0  \n",
      "jpeg                      9e                   h827c3e9_3  \n",
      "json5                     0.9.25          py310haa95532_0  \n",
      "jsonschema                4.23.0          py310haa95532_0  \n",
      "jsonschema-specifications 2023.7.1        py310haa95532_0  \n",
      "jupyter-lsp               2.2.0           py310haa95532_0  \n",
      "jupyter_client            8.6.3           py310haa95532_0  \n",
      "jupyter_core              5.7.2           py310haa95532_0  \n",
      "jupyter_events            0.12.0          py310haa95532_0  \n",
      "jupyter_server            2.15.0          py310haa95532_0  \n",
      "jupyter_server_terminals  0.4.4           py310haa95532_1  \n",
      "jupyterlab                4.3.4           py310haa95532_0  \n",
      "jupyterlab_pygments       0.3.0           py310haa95532_0  \n",
      "jupyterlab_server         2.27.3          py310haa95532_0  \n",
      "kiwisolver                1.4.8           py310h5da7b33_0  \n",
      "krb5                      1.20.1               h5b6d351_0  \n",
      "lcms2                     2.16                 hb4a4139_0  \n",
      "lerc                      4.0.0                h5da7b33_0  \n",
      "libabseil                 20240116.2      cxx17_h5da7b33_0  \n",
      "libclang                  14.0.6          default_hb5a9fac_2  \n",
      "libclang13                14.0.6          default_h8e68704_2  \n",
      "libdeflate                1.22                 h5bf469e_0  \n",
      "libffi                    3.4.4                hd77b12b_1  \n",
      "libglib                   2.78.4               ha17d25a_0  \n",
      "libiconv                  1.16                 h2bbff1b_3  \n",
      "libogg                    1.3.5                h2bbff1b_1  \n",
      "libpng                    1.6.39               h8cc25b3_0  \n",
      "libpq                     17.4                 h70ee33d_0  \n",
      "libprotobuf               4.25.3               hf2fb9eb_0  \n",
      "libsodium                 1.0.18               h62dcd97_0  \n",
      "libtiff                   4.5.1                h44ae7cf_1  \n",
      "libvorbis                 1.3.7                he774522_0  \n",
      "libwebp-base              1.3.2                h3d04722_1  \n",
      "libxml2                   2.13.5               h24da03e_0  \n",
      "lz4-c                     1.9.4                h2bbff1b_1  \n",
      "markupsafe                3.0.2           py310h827c3e9_0  \n",
      "matplotlib                3.10.0          py310haa95532_0  \n",
      "matplotlib-base           3.10.0          py310he19b0ae_0  \n",
      "matplotlib-inline         0.1.6           py310haa95532_0  \n",
      "mistune                   3.1.2           py310haa95532_0  \n",
      "mkl                       2023.1.0         h6b88ed4_46358  \n",
      "mkl-service               2.4.0           py310h827c3e9_2  \n",
      "mkl_fft                   1.3.11          py310h827c3e9_0  \n",
      "mkl_random                1.2.8           py310hc64d2fc_0  \n",
      "nbclient                  0.10.2          py310haa95532_0  \n",
      "nbconvert-core            7.16.6          py310haa95532_0  \n",
      "nbformat                  5.10.4          py310haa95532_0  \n",
      "nest-asyncio              1.6.0           py310haa95532_0  \n",
      "notebook-shim             0.2.3           py310haa95532_0  \n",
      "numpy                     1.26.4          py310h055cbcc_0  \n",
      "numpy-base                1.26.4          py310h65a83cf_0  \n",
      "opencv                    4.10.0          py310h4e21365_2  \n",
      "openjpeg                  2.5.2                hae555c5_0  \n",
      "openssl                   3.0.16               h3f729d1_0  \n",
      "overrides                 7.4.0           py310haa95532_0  \n",
      "packaging                 24.2            py310haa95532_0  \n",
      "pandocfilters             1.5.0              pyhd3eb1b0_0  \n",
      "parso                     0.8.4           py310haa95532_0  \n",
      "pcre2                     10.42                h0ff8eda_1  \n",
      "pillow                    11.1.0          py310h096bfcc_0  \n",
      "pip                       25.0            py310haa95532_0  \n",
      "pixman                    0.40.0               h2bbff1b_1  \n",
      "platformdirs              3.10.0          py310haa95532_0  \n",
      "ply                       3.11            py310haa95532_0  \n",
      "prometheus_client         0.21.0          py310haa95532_0  \n",
      "prompt-toolkit            3.0.43          py310haa95532_0  \n",
      "prompt_toolkit            3.0.43               hd3eb1b0_0  \n",
      "psutil                    5.9.0           py310h827c3e9_1  \n",
      "pure_eval                 0.2.2              pyhd3eb1b0_0  \n",
      "pycparser                 2.21               pyhd3eb1b0_0  \n",
      "pygments                  2.15.1          py310haa95532_1  \n",
      "pyparsing                 3.2.0           py310haa95532_0  \n",
      "pyqt                      5.15.10         py310h5da7b33_1  \n",
      "pyqt5-sip                 12.13.0         py310h827c3e9_1  \n",
      "pysocks                   1.7.1           py310haa95532_0  \n",
      "python                    3.10.16              h4607a30_1  \n",
      "python-dateutil           2.9.0post0      py310haa95532_2  \n",
      "python-fastjsonschema     2.20.0          py310haa95532_0  \n",
      "python-json-logger        3.2.1           py310haa95532_0  \n",
      "pywin32                   308             py310h5da7b33_0  \n",
      "pywinpty                  2.0.14          py310h72d21ff_0  \n",
      "pyyaml                    6.0.2           py310h827c3e9_0  \n",
      "pyzmq                     26.2.0          py310h5da7b33_0  \n",
      "qt-main                   5.15.2              h19c9488_12  \n",
      "referencing               0.30.2          py310haa95532_0  \n",
      "requests                  2.32.3          py310haa95532_1  \n",
      "rfc3339-validator         0.1.4           py310haa95532_0  \n",
      "rfc3986-validator         0.1.1           py310haa95532_0  \n",
      "rpds-py                   0.22.3          py310h636fa0f_0  \n",
      "send2trash                1.8.2           py310haa95532_1  \n",
      "setuptools                75.8.0          py310haa95532_0  \n",
      "sip                       6.7.12          py310h5da7b33_1  \n",
      "six                       1.16.0             pyhd3eb1b0_1  \n",
      "sniffio                   1.3.0           py310haa95532_0  \n",
      "soupsieve                 2.5             py310haa95532_0  \n",
      "sqlite                    3.45.3               h2bbff1b_0  \n",
      "stack_data                0.2.0              pyhd3eb1b0_0  \n",
      "tbb                       2021.8.0             h59b6b97_0  \n",
      "terminado                 0.17.1          py310haa95532_0  \n",
      "tinycss2                  1.4.0           py310haa95532_0  \n",
      "tk                        8.6.14               h0416ee5_0  \n",
      "tomli                     2.0.1           py310haa95532_0  \n",
      "tornado                   6.4.2           py310h827c3e9_0  \n",
      "traitlets                 5.14.3          py310haa95532_0  \n",
      "typing-extensions         4.12.2          py310haa95532_0  \n",
      "typing_extensions         4.12.2          py310haa95532_0  \n",
      "tzdata                    2025a                h04d1e81_0  \n",
      "unicodedata2              15.1.0          py310h827c3e9_1  \n",
      "urllib3                   2.3.0           py310haa95532_0  \n",
      "vc                        14.42                haa95532_4  \n",
      "vs2015_runtime            14.42.34433          he0abc0d_4  \n",
      "wcwidth                   0.2.5              pyhd3eb1b0_0  \n",
      "webencodings              0.5.1           py310haa95532_1  \n",
      "websocket-client          1.8.0           py310haa95532_0  \n",
      "wheel                     0.45.1          py310haa95532_0  \n",
      "win_inet_pton             1.1.0           py310haa95532_0  \n",
      "winpty                    0.4.3                         4  \n",
      "xz                        5.6.4                h4754444_1  \n",
      "yaml                      0.2.5                he774522_0  \n",
      "zeromq                    4.3.5                hd77b12b_0  \n",
      "zlib                      1.2.13               h8cc25b3_1  \n",
      "zstd                      1.5.6                h8880b57_0  \n"
     ]
    }
   ],
   "source": [
    "!conda list"
   ]
  },
  {
   "cell_type": "markdown",
   "id": "c8a2d5de-e78f-468a-9d0f-7547fe4090fd",
   "metadata": {},
   "source": [
    "![Завантаження бібліотек](images/6.jpg)"
   ]
  },
  {
   "cell_type": "markdown",
   "id": "f8803e73-db56-41c4-b13e-7d036db78d84",
   "metadata": {},
   "source": [
    "### Контрольні запитання та відповіді"
   ]
  },
  {
   "cell_type": "markdown",
   "id": "2941985c-abfa-4c04-b753-e2447a2da748",
   "metadata": {},
   "source": [
    "#### 1. Що таке pip і conda та чим вони відрізняються між собою?\n",
    "\n",
    "**pip** – це стандартний менеджер пакетів Python, який використовується для встановлення та управління бібліотеками з PyPI (Python Package Index).\n",
    "\n",
    "**conda** – це менеджер пакетів та віртуальних середовищ, який входить до складу Anaconda. Він дозволяє встановлювати пакети як для Python, так і для інших мов програмування (наприклад, R).\n",
    "\n",
    "Основні відмінності:\n",
    "\n",
    "- pip працює лише з пакетами Python, conda підтримує інші типи пакетів.\n",
    "- conda керує залежностями більш ефективно, оскільки може встановлювати бібліотеки у форматах, що не потребують компіляції.\n",
    "- conda має вбудовані механізми для створення та управління віртуальними середовищами.\n"
   ]
  },
  {
   "cell_type": "markdown",
   "id": "d5ad1770-bbb3-4a93-afe1-87619fe96b89",
   "metadata": {},
   "source": [
    "#### 2. Як виконати налаштування середовища за допомогою Virtualenv?\n",
    "Virtualenv – це вбудований інструмент Python для створення ізольованих середовищ.\n",
    "\n",
    "#####  Покрокова інструкція:\n",
    "1. Встановити Virtualenv:\n",
    "   ```pip install virtualenv```\n",
    "2. Створити нове середовище:\n",
    "    ```virtualenv myenv```\n",
    "3. Активувати середовище:\n",
    "   ```myenv\\Scripts\\activate```\n",
    "4. Встановити необхідні пакети (наприклад, OpenCV):\n",
    "    ```pip install opencv-python```\n",
    "5. Деактивувати середовище:\n",
    "    ```deactivate```"
   ]
  },
  {
   "cell_type": "markdown",
   "id": "12fd995e-bbab-4f04-985a-40b59d75ea70",
   "metadata": {},
   "source": [
    "#### 3. Сфотографувати себе на телефон та імпортувати своє зображення у форматі .png на початок робочого зошита.\n",
    "Кроки:\n",
    "\n",
    "1. Перенести зображення у директорію з файлом .ipynb (наприклад, у папку images).\n",
    "2. Додати зображення у Jupyter Notebook за допомогою Markdown:\n",
    "```![My Photo](images/my_photo.png)```"
   ]
  },
  {
   "cell_type": "markdown",
   "id": "a6728994-25ab-4b6b-b09d-65947b270655",
   "metadata": {},
   "source": [
    "---\n",
    "\n",
    "#### 4: Bubble Sort (Метод бульбашки)"
   ]
  },
  {
   "cell_type": "code",
   "execution_count": 9,
   "id": "6b9e0724-c633-4c6b-88d1-9f5f56a0aa43",
   "metadata": {},
   "outputs": [
    {
     "name": "stdout",
     "output_type": "stream",
     "text": [
      "Відсортований масив: [11, 12, 22, 25, 34, 64, 90]\n"
     ]
    }
   ],
   "source": [
    "def bubble_sort(arr):\n",
    "    n = len(arr)\n",
    "    for i in range(n):\n",
    "        for j in range(0, n-i-1):\n",
    "            if arr[j] > arr[j+1]:\n",
    "                arr[j], arr[j+1] = arr[j+1], arr[j]\n",
    "\n",
    "# Приклад\n",
    "arr = [64, 34, 25, 12, 22, 11, 90]\n",
    "bubble_sort(arr)\n",
    "print(\"Відсортований масив:\", arr)"
   ]
  },
  {
   "cell_type": "markdown",
   "id": "f8538a2d-bcbd-46d8-a29a-c273cb679d36",
   "metadata": {},
   "source": [
    "#### 5. Як виконати компіляцію вхідного документа Jupyter Notebook з його середовища, не використовуючи інтерфейс командного рядка?\n",
    "У Jupyter Notebook можна експортувати .ipynb у .html, .pdf або .md без використання командного рядка:\n",
    "\n",
    "1. Відкрити Jupyter Notebook.\n",
    "2. У верхньому меню натиснути File → Download as.\n",
    "3. Обрати потрібний формат:\n",
    "    - HTML (.html)\n",
    "    - PDF via LaTeX (.pdf)\n",
    "    - Markdown (.md)"
   ]
  },
  {
   "cell_type": "markdown",
   "id": "c28da252-0279-4a46-90d1-7525125a7b78",
   "metadata": {},
   "source": [
    "#### 6. Як виконати компіляцію Jupyter Notebook у HTML?\n",
    "Для конвертації Jupyter Notebook у HTML можна використати:\n",
    "\n",
    "1. **Через командний рядок**:\n",
    "   ```jupyter nbconvert lab_2_StudentLastName.ipynb --to html```\n",
    "2. **За допомогою Quarto**\n",
    "    ```quarto preview lab_2_StudentLastName.ipynb```"
   ]
  }
 ],
 "metadata": {
  "kernelspec": {
   "display_name": "BoiaryntsovaPolina_OpenCV",
   "language": "python",
   "name": "boiaryntsovapolina_opencv"
  },
  "language_info": {
   "codemirror_mode": {
    "name": "ipython",
    "version": 3
   },
   "file_extension": ".py",
   "mimetype": "text/x-python",
   "name": "python",
   "nbconvert_exporter": "python",
   "pygments_lexer": "ipython3",
   "version": "3.10.16"
  }
 },
 "nbformat": 4,
 "nbformat_minor": 5
}

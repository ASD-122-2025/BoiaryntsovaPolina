{
 "cells": [
  {
   "cell_type": "markdown",
   "id": "d80aa262-1242-4c74-a8a0-b0357c8f0ac1",
   "metadata": {},
   "source": [
    "# Лабораторна робота №5\n",
    "## Тема: Алгоритми пошуку\n",
    "### Виконала: Бояринцова Поліна\n",
    "### Група: КН-24-1\n",
    "### Дата: 06.04.2025"
   ]
  },
  {
   "cell_type": "markdown",
   "id": "dcef1c0e-c1a8-4dde-ba31-2ab4eed0ee8c",
   "metadata": {},
   "source": [
    "## 1. Реалізація лінійного пошуку"
   ]
  },
  {
   "cell_type": "code",
   "execution_count": 25,
   "id": "a6f2a79c-83c2-43b8-b92d-45992689ac56",
   "metadata": {},
   "outputs": [
    {
     "name": "stdin",
     "output_type": "stream",
     "text": [
      "Введіть шуканий елемент:  7\n"
     ]
    },
    {
     "data": {
      "text/plain": [
       "-1"
      ]
     },
     "execution_count": 25,
     "metadata": {},
     "output_type": "execute_result"
    }
   ],
   "source": [
    "# Якщо елемент не буде знайдено, виводиться -1\n",
    "def linear_search(a_list, x):\n",
    "    i, length = 0, len(a_list)\n",
    "    while i < length and x != a_list[i]:\n",
    "        i += 1\n",
    "    return i if i < length else -1\n",
    "\n",
    "search_item = int(input(\"Введіть шуканий елемент: \"))\n",
    "a = [32, 1, 3, 4, 2, 1]\n",
    "linear_search(a, search_item)"
   ]
  },
  {
   "cell_type": "markdown",
   "id": "dce4ba5c-c011-428c-80b8-83c1060851ad",
   "metadata": {},
   "source": [
    "#### Оцінити асимптотичну складність алгоритму лінійного пошуку в О-нотації (С.р.)."
   ]
  },
  {
   "cell_type": "markdown",
   "id": "9244122c-434a-4a53-a1be-6910d48670d7",
   "metadata": {},
   "source": [
    "![linear_search](images/linear_search.jpg)"
   ]
  },
  {
   "cell_type": "markdown",
   "id": "3f923bab-5396-4e20-b9b3-034fb75f012e",
   "metadata": {},
   "source": [
    "## 2. Бінарний пошук"
   ]
  },
  {
   "cell_type": "code",
   "execution_count": 26,
   "id": "3528d0b3-43c9-4763-a0f5-3252d5adaabd",
   "metadata": {},
   "outputs": [
    {
     "name": "stdin",
     "output_type": "stream",
     "text": [
      "Введіть шуканий елемент:  5\n"
     ]
    },
    {
     "data": {
      "text/plain": [
       "-1"
      ]
     },
     "execution_count": 26,
     "metadata": {},
     "output_type": "execute_result"
    }
   ],
   "source": [
    "def bin_search(a_list, x, left, right):\n",
    "    if left > right or len(a_list) == 0:\n",
    "        return -1\n",
    "    middle = (left + right) // 2\n",
    "    if a_list[middle] == x:\n",
    "        return middle\n",
    "    elif (a_list[middle] < x):\n",
    "        return bin_search(a_list, x, middle + 1, right)\n",
    "    else: # a_list[middle] > x\n",
    "        return bin_search(a_list, x, left, middle - 1)\n",
    "\n",
    "a = range(7,21)\n",
    "\n",
    "search_item = int(input(\"Введіть шуканий елемент: \"))\n",
    "\n",
    "bin_search(a, search_item, 0, len(a) - 1)"
   ]
  },
  {
   "cell_type": "markdown",
   "id": "da9ffea5-5926-4e65-96f2-2bbb9691089a",
   "metadata": {},
   "source": [
    "## 3. Завдання для самостійної роботи:\n",
    "\n",
    "- оцінити асимптотичну складність алгоритму бінарного пошуку в\n",
    "О-нотації.\n",
    "- написати функцію, яка б могла повертати датафрейм з таким складом\n",
    "полів: («n», «time»), де n – розмір масиву для функції linear_searh();\n",
    "- написати функцію, яка б могла повертати датафрейм з таким складом\n",
    "полів: («n», «time»), де n – розмір масиву для функції bin_searh();\n",
    "- за результатами попередніх завдань побудувати графіки залежності часу\n",
    "виконання процедури пошуку від розміру масиву.\n",
    "- оцінити, який з двох алгоритмів є ефективнішим і в якому діапазоні\n",
    "розміру задачі."
   ]
  },
  {
   "cell_type": "markdown",
   "id": "1be18c36-c1d0-477b-bb3e-31a3ad42a43d",
   "metadata": {},
   "source": [
    "### 1. Асимптотична складність алгоритму бінарного пошуку"
   ]
  },
  {
   "cell_type": "markdown",
   "id": "d7703975-f20f-47f3-af05-b2fdd9e28af9",
   "metadata": {},
   "source": [
    "![bin_search](images/bin_search_1.jpg)"
   ]
  },
  {
   "cell_type": "markdown",
   "id": "06b8c488-855c-4058-8691-544ff1929463",
   "metadata": {},
   "source": [
    "![bin_search](images/bin_search_2.jpg)"
   ]
  },
  {
   "cell_type": "markdown",
   "id": "d185cc21-29fc-4459-86ff-61a8e4a2d412",
   "metadata": {},
   "source": [
    "### 2. Функції для збору даних"
   ]
  },
  {
   "cell_type": "markdown",
   "id": "c9fb862d-55d5-458c-9e3a-7c587a740155",
   "metadata": {},
   "source": [
    "#### Функція для вимірювання часу"
   ]
  },
  {
   "cell_type": "code",
   "execution_count": 27,
   "id": "660a2cec-767d-44fb-b8cd-ed0815fdc951",
   "metadata": {},
   "outputs": [],
   "source": [
    "import time\n",
    "\n",
    "def measure_time_search(func, lst, x):\n",
    "    start = time.time()\n",
    "    func(lst, x)\n",
    "    return time.time() - start"
   ]
  },
  {
   "cell_type": "markdown",
   "id": "55842315-a93e-425e-a1af-e492512f5160",
   "metadata": {},
   "source": [
    "#### 2.1. Датафрейм для лінійного пошуку"
   ]
  },
  {
   "cell_type": "code",
   "execution_count": 28,
   "id": "76d5da35-cd2c-438f-9fa1-54b7987ea8bc",
   "metadata": {},
   "outputs": [],
   "source": [
    "import random\n",
    "\n",
    "def create_linear_search_data(max_n):\n",
    "    list_n = []\n",
    "    list_time = []\n",
    "    n = 1\n",
    "    while n <= max_n:\n",
    "        lst = []\n",
    "        i = 0\n",
    "        while i < n:\n",
    "            lst.append(random.randint(0, 999))\n",
    "            i += 1\n",
    "        x = random.randint(0, 999)\n",
    "        t = measure_time_search(linear_search, lst, x)\n",
    "        list_n.append(n)\n",
    "        list_time.append(t)\n",
    "        n += 10\n",
    "    return list_n, list_time"
   ]
  },
  {
   "cell_type": "markdown",
   "id": "0e2b100a-7c18-4a4d-8ecb-899605ec6b97",
   "metadata": {},
   "source": [
    "#### 2.2. Датафрейм для бінарного пошуку"
   ]
  },
  {
   "cell_type": "code",
   "execution_count": 29,
   "id": "f305cb18-d256-41f0-b81b-a79e8d2133da",
   "metadata": {},
   "outputs": [],
   "source": [
    "def create_bin_search_data(max_n):\n",
    "    list_n = []\n",
    "    list_time = []\n",
    "    n = 1\n",
    "    while n <= max_n:\n",
    "        lst = []\n",
    "        i = 0\n",
    "        while i < n:\n",
    "            lst.append(random.randint(0, 999))\n",
    "            i += 1\n",
    "        lst.sort()\n",
    "        x = random.randint(0, 999)\n",
    "        t = measure_time_search(lambda a, x: bin_search(a, x, 0, len(a) - 1), lst, x)\n",
    "        list_n.append(n)\n",
    "        list_time.append(t)\n",
    "        n += 10\n",
    "    return list_n, list_time"
   ]
  },
  {
   "cell_type": "markdown",
   "id": "ef4a1e58-7eaf-4856-8a17-0dc588683c71",
   "metadata": {},
   "source": [
    "### 5. Побудова графіків часу виконання\n",
    "#### 5.1 Функція для побудови графіків"
   ]
  },
  {
   "cell_type": "code",
   "execution_count": 30,
   "id": "a1c22e28-9c12-4b87-9f4c-034cbe7b6fa2",
   "metadata": {},
   "outputs": [
    {
     "data": {
      "image/png": "[encoded data removed]",
      "text/plain": [
       "<Figure size 1000x600 with 1 Axes>"
      ]
     },
     "metadata": {},
     "output_type": "display_data"
    }
   ],
   "source": [
    "import matplotlib.pyplot as plt\n",
    "\n",
    "def plot_search_times(max_n):\n",
    "    lin_n, lin_t = create_linear_search_data(max_n)\n",
    "    bin_n, bin_t = create_bin_search_data(max_n)\n",
    "\n",
    "    plt.figure(figsize=(10, 6))\n",
    "    plt.plot(lin_n, lin_t, label=\"Лінійний пошук\", color=\"blue\")\n",
    "    plt.plot(bin_n, bin_t, label=\"Бінарний пошук\", color=\"red\")\n",
    "    plt.xlabel(\"Розмір масиву (n)\")\n",
    "    plt.ylabel(\"Час виконання (сек)\")\n",
    "    plt.title(\"Залежність часу пошуку від розміру масиву\")\n",
    "    plt.legend()\n",
    "    plt.grid(True)\n",
    "    plt.show()\n",
    "\n",
    "plot_search_times(1000)"
   ]
  },
  {
   "cell_type": "markdown",
   "id": "592e1c99-b95b-4c9b-912a-be24e223fa01",
   "metadata": {},
   "source": [
    "#### 5.2 Виведення графіка для максимального розміру масиву 1000"
   ]
  },
  {
   "cell_type": "markdown",
   "id": "733854bf-716b-464a-b088-67b2f8dcd2b3",
   "metadata": {},
   "source": [
    "#### 6. Оцінка ефективності алгоритмів\n",
    "З графіків можна зробити висновки про ефективність алгоритмів. Як правило, бінарний пошук демонструє значно кращу швидкість на великих масивах порівняно з лінійним пошуком, але для цього потрібна відсортованість масиву."
   ]
  },
  {
   "cell_type": "markdown",
   "id": "29741568-5ccd-453d-871f-bf231a537515",
   "metadata": {},
   "source": [
    "## 4. Контрольні питання"
   ]
  },
  {
   "cell_type": "markdown",
   "id": "10396b1c-8fab-41ef-b840-425913f0509e",
   "metadata": {},
   "source": [
    "### 1. Сформулювати задачу пошуку: "
   ]
  },
  {
   "cell_type": "markdown",
   "id": "c75474c8-9c81-4316-9bf6-7f0125a7b130",
   "metadata": {},
   "source": [
    "Завдання полягає в знаходженні певного елемента в колекції даних."
   ]
  },
  {
   "cell_type": "markdown",
   "id": "703e09e3-edec-4e95-81e7-d0e6d47c9c04",
   "metadata": {},
   "source": [
    "### 2. Які критерії можна використовувати для оцінювання ефективності алгоритмів пошуку?"
   ]
  },
  {
   "cell_type": "markdown",
   "id": "136820ab-38e7-4f2f-99d1-7907ec9fb293",
   "metadata": {},
   "source": [
    "- Часова складність.\n",
    "- Просторова складність.\n",
    "- Стійкість до змін у структурі даних."
   ]
  },
  {
   "cell_type": "markdown",
   "id": "3105123e-4783-4187-a1bb-1013952d8c18",
   "metadata": {},
   "source": [
    "### 3. Що таке лінійний пошук і яка його асимптотична складність? "
   ]
  },
  {
   "cell_type": "markdown",
   "id": "9a36bd9e-3588-4481-9ad3-1b2f009e5585",
   "metadata": {},
   "source": [
    "Лінійний пошук перевіряє елементи списку по черзі. Складність — O(n)."
   ]
  },
  {
   "cell_type": "markdown",
   "id": "5f02fdb3-5cc5-4c04-ab4c-8401ef9b4593",
   "metadata": {},
   "source": [
    "### 4. Що таке бінарний пошук і в чому полягає його головний принцип роботи? "
   ]
  },
  {
   "cell_type": "markdown",
   "id": "dab876bb-f53f-4f99-8fd9-ab9617b8bfa1",
   "metadata": {},
   "source": [
    "Бінарний пошук використовує розподіл масиву на половини для зменшення кількості порівнянь. Складність — O(log n)."
   ]
  },
  {
   "cell_type": "markdown",
   "id": "6a314c91-950e-4df6-ab83-7d27299bbc03",
   "metadata": {},
   "source": [
    "### 5. Які переваги і недоліки використання бінарного пошуку порівняно з лінійним?"
   ]
  },
  {
   "cell_type": "markdown",
   "id": "91394dd0-4d2d-45c5-9a0b-8730533790a2",
   "metadata": {},
   "source": [
    "- Переваги: швидше для великих масивів.\n",
    "- Недоліки: потребує відсортованого масиву."
   ]
  },
  {
   "cell_type": "markdown",
   "id": "7e43a713-2178-4c3f-96ba-dc603d8efa3e",
   "metadata": {},
   "source": [
    "### 6. Які ще алгоритми пошуку існують, окрім лінійного і бінарного?"
   ]
  },
  {
   "cell_type": "markdown",
   "id": "0b767293-e082-4fb9-bc2b-43ecf9c09ca2",
   "metadata": {},
   "source": [
    "- Пошук за допомогою хешування.\n",
    "- Пошук в глибину (DFS) та пошук в ширину (BFS) для графів."
   ]
  }
 ],
 "metadata": {
  "kernelspec": {
   "display_name": "BoiaryntsovaPolina_OpenCV",
   "language": "python",
   "name": "boiaryntsovapolina_opencv"
  },
  "language_info": {
   "codemirror_mode": {
    "name": "ipython",
    "version": 3
   },
   "file_extension": ".py",
   "mimetype": "text/x-python",
   "name": "python",
   "nbconvert_exporter": "python",
   "pygments_lexer": "ipython3",
   "version": "3.10.16"
  }
 },
 "nbformat": 4,
 "nbformat_minor": 5
}

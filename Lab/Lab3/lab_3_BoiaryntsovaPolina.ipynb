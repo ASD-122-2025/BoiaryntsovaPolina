{
 "cells": [
  {
   "cell_type": "markdown",
   "id": "28174001-05b0-4983-b9a4-a5a6e99e8c43",
   "metadata": {},
   "source": [
    "# Лабораторна робота №3\n",
    "## Тема: Аналіз складності алгоритмів. Алгоритми сортування\n",
    "### Виконала: Бояринцова Поліна\n",
    "### Група: КН-24-1\n",
    "### Дата: 15.03.2025"
   ]
  },
  {
   "cell_type": "markdown",
   "id": "88633ee4-85d1-4044-99d2-bff7b740ae1b",
   "metadata": {},
   "source": [
    "## 1. Tеоретичні розрахунки асимптотичної складності алгоритмів сортування методами вставляння та бульбашки."
   ]
  },
  {
   "cell_type": "markdown",
   "id": "7dcaa538-ce76-4709-a3d2-9d7825d9b3f3",
   "metadata": {},
   "source": [
    "Аналіз складності алгоритму вставками (Insertion Sort) \n",
    "- Найгірший випадок: $O(n^2)$\n",
    "- Найкращий випадок: $O(n)$ \n",
    "- Середній випадок: $O(n^2)$ \n",
    "\n",
    "Аналіз складності алгоритму бульбашки (Bubble Sort) \n",
    "- Найгірший випадок: $O(n^2)$ \n",
    "- Найкращий випадок: $O(n)$ (якщо додати перевірку відсортованості) \n",
    "- Середній випадок: $O(n^2)$"
   ]
  },
  {
   "cell_type": "markdown",
   "id": "a99ca1fd-c2b5-45a0-857d-e0667f5a20b7",
   "metadata": {},
   "source": [
    "## 2. Реалізація алгоритмів\n",
    "### Реалізація сортування вставками (Insertion Sort)"
   ]
  },
  {
   "cell_type": "code",
   "execution_count": 4,
   "id": "ad177afb-dcdb-4c3c-be9d-8c9874ecb884",
   "metadata": {},
   "outputs": [
    {
     "name": "stdout",
     "output_type": "stream",
     "text": [
      "Before sorting: [61, 90, 52, 50, 13, 76, 84, 29, 9, 67]\n",
      "After sorting: [9, 13, 29, 50, 52, 61, 67, 76, 84, 90]\n"
     ]
    }
   ],
   "source": [
    "import time\n",
    "import random\n",
    "\n",
    "def insertion_sort(nums):\n",
    "    for j in range(1, len(nums)):\n",
    "        key = nums[j]\n",
    "        i = j - 1\n",
    "        while i >= 0 and nums[i] > key:\n",
    "            nums[i + 1] = nums[i]\n",
    "            i -= 1\n",
    "        nums[i + 1] = key\n",
    "\n",
    "# Тест\n",
    "nums = [random.randint(0, 100) for _ in range(10)]\n",
    "print(\"Before sorting:\", nums)\n",
    "insertion_sort(nums)\n",
    "print(\"After sorting:\", nums)"
   ]
  },
  {
   "cell_type": "markdown",
   "id": "51e4fa40-da7e-41de-9cb1-dd65a1a261de",
   "metadata": {},
   "source": [
    "### Реалізація сортування бульбашкою (Bubble Sort)"
   ]
  },
  {
   "cell_type": "code",
   "execution_count": 5,
   "id": "d4927e94-701d-4489-b06e-8c9b583a9db4",
   "metadata": {},
   "outputs": [
    {
     "name": "stdout",
     "output_type": "stream",
     "text": [
      "Before sorting: [97, 18, 81, 75, 96, 85, 3, 100, 88, 1]\n",
      "After sorting: [1, 3, 18, 75, 81, 85, 88, 96, 97, 100]\n"
     ]
    }
   ],
   "source": [
    "def bubble_sort(nums):\n",
    "    n = len(nums)\n",
    "    for i in range(n - 1):\n",
    "        swapped = False\n",
    "        for j in range(n - i - 1):\n",
    "            if nums[j] > nums[j + 1]:\n",
    "                nums[j], nums[j + 1] = nums[j + 1], nums[j]\n",
    "                swapped = True\n",
    "        if not swapped:\n",
    "            break  # Якщо масив вже відсортований, виходимо\n",
    "\n",
    "# Тест\n",
    "nums = [random.randint(0, 100) for _ in range(10)]\n",
    "print(\"Before sorting:\", nums)\n",
    "bubble_sort(nums)\n",
    "print(\"After sorting:\", nums)"
   ]
  },
  {
   "cell_type": "markdown",
   "id": "5182e99a-d5d9-4f82-a129-259b3470ac2f",
   "metadata": {},
   "source": [
    "### 3. Дослідження часу виконання алгоритмів"
   ]
  },
  {
   "cell_type": "code",
   "execution_count": 6,
   "id": "8fd76e96-aaa8-4d23-a9dc-7901017c1ec2",
   "metadata": {
    "scrolled": true
   },
   "outputs": [
    {
     "name": "stdout",
     "output_type": "stream",
     "text": [
      "Insertion sort times: [0.0, 0.0, 0.0, 0.0, 0.011129379272460938, 0.0346837043762207, 0.1440727710723877, 0.3346686363220215, 0.5762557983398438, 0.8509457111358643, 3.6567747592926025]\n",
      "Bubble sort times: [0.0, 0.0, 0.0, 0.0009984970092773438, 0.028703927993774414, 0.0647881031036377, 0.31482481956481934, 0.7675693035125732, 1.338193655014038, 1.9066977500915527, 7.543386936187744]\n"
     ]
    }
   ],
   "source": [
    "sizes = [5, 10, 50, 100, 500, 1000, 2000, 3000, 4000, 5000, 10000]\n",
    "insertion_times = []\n",
    "bubble_times = []\n",
    "\n",
    "for n in sizes:\n",
    "    # Генеруємо випадковий масив\n",
    "    arr = [random.randint(0, 100000) for _ in range(n)]\n",
    "\n",
    "    # Вимірюємо час для insertion sort\n",
    "    arr_copy = arr.copy()\n",
    "    start = time.time()\n",
    "    insertion_sort(arr_copy)\n",
    "    insertion_times.append(time.time() - start)\n",
    "\n",
    "    # Вимірюємо час для bubble sort\n",
    "    arr_copy = arr.copy()\n",
    "    start = time.time()\n",
    "    bubble_sort(arr_copy)\n",
    "    bubble_times.append(time.time() - start)\n",
    "\n",
    "print(\"Insertion sort times:\", insertion_times)\n",
    "print(\"Bubble sort times:\", bubble_times)"
   ]
  },
  {
   "cell_type": "markdown",
   "id": "e446e148-8db9-41b3-acbc-04dcb8342bd5",
   "metadata": {},
   "source": [
    "### 3.1. Теоретичні розрахунки асимптотичної складності алгоритмів сортування методами вставляння та бульбашки"
   ]
  },
  {
   "cell_type": "markdown",
   "id": "6262da7d-928e-4e63-b355-c46b95da0893",
   "metadata": {},
   "source": [
    "![bubble_sort](images/bubble_sort_1.jpg)"
   ]
  },
  {
   "cell_type": "markdown",
   "id": "20e0a4ed-6aa1-4a73-88ce-45277d1d5ee1",
   "metadata": {},
   "source": [
    "![bubble_sort](images/bubble_sort_2.jpg)"
   ]
  },
  {
   "cell_type": "markdown",
   "id": "bb7e40d8-9c8e-48dc-8b48-a3a7f0b00499",
   "metadata": {},
   "source": [
    "![insertion_sort](images/insertion_sort_1.jpg)"
   ]
  },
  {
   "cell_type": "markdown",
   "id": "c9f41f8b-fd77-4dcb-9828-186583d6c040",
   "metadata": {},
   "source": [
    "![insertion_sort](images/insertion_sort_2.jpg)"
   ]
  },
  {
   "cell_type": "markdown",
   "id": "abea3127-575c-485c-89df-cf277edbd3be",
   "metadata": {},
   "source": [
    "## 4. Побудова графіків"
   ]
  },
  {
   "cell_type": "code",
   "execution_count": 13,
   "id": "fbe783a8-f8cb-4b39-9017-181885031c19",
   "metadata": {},
   "outputs": [
    {
     "data": {
      "image/png": "[encoded data removed]",
      "text/plain": [
       "<Figure size 1000x500 with 1 Axes>"
      ]
     },
     "metadata": {},
     "output_type": "display_data"
    }
   ],
   "source": [
    "import matplotlib.pyplot as plt\n",
    "\n",
    "plt.figure(figsize=(10, 5))\n",
    "plt.plot(sizes, insertion_times, label=\"Insertion Sort\", marker='o')\n",
    "plt.plot(sizes, bubble_times, label=\"Bubble Sort\", marker='s')\n",
    "plt.xlabel(\"Розмір масиву (n)\")\n",
    "plt.ylabel(\"Час (секунди)\")\n",
    "plt.title(\"Порівняння сортувань\")\n",
    "plt.legend()\n",
    "plt.grid()\n",
    "plt.show()"
   ]
  },
  {
   "cell_type": "markdown",
   "id": "4d6766cc-3a42-4748-b769-e03264413158",
   "metadata": {},
   "source": [
    "----------\n",
    "### 5. Контрольні питання."
   ]
  },
  {
   "cell_type": "markdown",
   "id": "e2109651-6479-43c3-897c-f9b08bceecd4",
   "metadata": {},
   "source": [
    "#### 1. Що таке O-нотація і чим вона відрізняється від Ω-нотації?"
   ]
  },
  {
   "cell_type": "markdown",
   "id": "f1b652ac-ce50-491a-af38-72708aa9510d",
   "metadata": {},
   "source": [
    "- **O-нотація** (верхня межа) описує найгірший сценарій алгоритму.\n",
    "- **Ω-нотація** (нижня межа) описує найкращий сценарій алгоритму."
   ]
  },
  {
   "cell_type": "markdown",
   "id": "cb36ee7c-4421-4b2b-8665-b944a978485b",
   "metadata": {},
   "source": [
    "#### 2. Яка складність insertion sort у найкращому випадку?"
   ]
  },
  {
   "cell_type": "markdown",
   "id": "88f51f4d-4ab7-4a40-a005-0f139eeee265",
   "metadata": {},
   "source": [
    "O(n), якщо масив вже відсортований (тільки один прохід)."
   ]
  },
  {
   "cell_type": "markdown",
   "id": "dc931c0f-96e1-4364-980f-4477432ce5cd",
   "metadata": {},
   "source": [
    "#### 3. Визначення ефективного алгоритму."
   ]
  },
  {
   "cell_type": "markdown",
   "id": "b933e6dc-d7a3-40d5-9a83-29e654f3e1e9",
   "metadata": {},
   "source": [
    "Ефективний алгоритм – це алгоритм, який використовує оптимальну кількість ресурсів (часу та пам’яті) для розв’язання задачі."
   ]
  },
  {
   "cell_type": "markdown",
   "id": "b9ae5047-5ba9-4629-8d76-6a95e2bf5505",
   "metadata": {},
   "source": [
    "#### 4. Що таке головний параметр (розмір) задачі?"
   ]
  },
  {
   "cell_type": "markdown",
   "id": "ca8068ad-ea34-44a7-b4b8-8f613e7747f7",
   "metadata": {},
   "source": [
    "Це величина, що визначає складність алгоритму (наприклад, кількість елементів у масиві для сортування)."
   ]
  },
  {
   "cell_type": "markdown",
   "id": "32963ffa-bcc9-40d4-8280-51e739ee017b",
   "metadata": {},
   "source": [
    "#### 5. Як записати $F(N) = N^3 + 7N^2 − 14N$ у O-нотації ?"
   ]
  },
  {
   "cell_type": "markdown",
   "id": "4121d12a-41fc-4b31-88dc-0a042ec2c2dc",
   "metadata": {},
   "source": [
    "Найвища ступінь $N^3$ домінує, тому асимптотична складність: $O(N^3)$"
   ]
  }
 ],
 "metadata": {
  "kernelspec": {
   "display_name": "BoiaryntsovaPolina_OpenCV",
   "language": "python",
   "name": "boiaryntsovapolina_opencv"
  },
  "language_info": {
   "codemirror_mode": {
    "name": "ipython",
    "version": 3
   },
   "file_extension": ".py",
   "mimetype": "text/x-python",
   "name": "python",
   "nbconvert_exporter": "python",
   "pygments_lexer": "ipython3",
   "version": "3.10.16"
  }
 },
 "nbformat": 4,
 "nbformat_minor": 5
}

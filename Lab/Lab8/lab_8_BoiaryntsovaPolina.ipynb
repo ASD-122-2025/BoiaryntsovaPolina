{
 "cells": [
  {
   "cell_type": "markdown",
   "id": "4a4bed5c-2c07-4668-ad9b-829ebc60799e",
   "metadata": {},
   "source": [
    "# Лабораторна робота №8\n",
    "## Тема: Структура даних граф. Алгоритми на графах\n",
    "### Виконала: Бояринцова Поліна\n",
    "### Група: КН-24-1\n",
    "### Дата: 16.05.2025"
   ]
  },
  {
   "cell_type": "markdown",
   "id": "e9f876ae-d887-4606-a7eb-b2b857d048fa",
   "metadata": {},
   "source": [
    "## 1. Реалізація прикладів"
   ]
  },
  {
   "cell_type": "markdown",
   "id": "014a9409-7971-462e-84cf-5b94940f9cc1",
   "metadata": {},
   "source": [
    "### 1.1. Приклад реалізації структури даних граф"
   ]
  },
  {
   "cell_type": "code",
   "execution_count": 4,
   "id": "15ef31e9-a59e-42ed-a15f-71b14627bc4a",
   "metadata": {},
   "outputs": [],
   "source": [
    "class Vertex: \n",
    "    def __init__(self, key): \n",
    "        # Конструктор класу Vertex \n",
    "        self.id = key           # Ідентифікатор вершини \n",
    "        self.connectedTo = {}   # Словник суміжних вершин і ваг\n",
    "\n",
    "    def addNeighbor(self, nbr, weight=0): \n",
    "        # Додає з'єднання між поточною вершиною та сусідньою із заданою вагою\n",
    "        self.connectedTo[nbr] = weight \n",
    "\n",
    "    def __str__(self): \n",
    "        # Повертає рядкове представлення вершини\n",
    "        return str(self.id) + ' connectedTo: ' + str([x.id for x in self.connectedTo]) \n",
    "\n",
    "    def getConnections(self): \n",
    "        # Повертає список суміжних вершин\n",
    "        return self.connectedTo.keys() \n",
    "\n",
    "    def getId(self): \n",
    "        # Повертає ідентифікатор вершини\n",
    "        return self.id \n",
    "\n",
    "    def getWeight(self, nbr): \n",
    "        # Повертає вагу ребра між поточною вершиною та сусідньою\n",
    "        return self.connectedTo[nbr]"
   ]
  },
  {
   "cell_type": "markdown",
   "id": "219b7a9b-fee5-4789-b561-e6c10d68354c",
   "metadata": {},
   "source": [
    "### 1.2. Клас 𝐺𝑟𝑎𝑝ℎ"
   ]
  },
  {
   "cell_type": "code",
   "execution_count": 5,
   "id": "de58ee15-f327-403e-ba0c-bd4512cef853",
   "metadata": {},
   "outputs": [],
   "source": [
    "class Graph: \n",
    "    def __init__(self): \n",
    "        # Ініціалізація порожнього словника, що відображає імена вершин на об'єкти Vertex. \n",
    "        self.vertList = {} \n",
    "        # Ініціалізація лічильника вершин у графі. \n",
    "        self.numVertices = 0 \n",
    " \n",
    "    def addVertex(self, key): \n",
    "        # Збільшення лічильника вершин та створення нового об'єкта Vertex. \n",
    "        self.numVertices += 1 \n",
    "        newVertex = Vertex(key) \n",
    "        # Додавання нової вершини до словника. \n",
    "        self.vertList[key] = newVertex \n",
    "        return newVertex \n",
    " \n",
    "    def getVertex(self,n): \n",
    "        # Повертає об'єкт Vertex за його ім'ям. \n",
    "        if n in self.vertList: \n",
    "            return self.vertList[n] \n",
    "        else: \n",
    "            return None \n",
    " \n",
    "    def __contains__(self, n): \n",
    "        # Перевіряє, чи міститься вершина з заданим ім'ям у графі. \n",
    "        return n in self.vertList \n",
    " \n",
    "    def addEdge(self,f,t,cost=0): \n",
    " # Додає зв'язок між вершинами з іменами f та t з вагою cost (за замовчуванням – 0). \n",
    "        if f not in self.vertList: \n",
    "            # Якщо вершини f ще немає у графі, додаємо її. \n",
    "            nv = self.addVertex(f) \n",
    "        if t not in self.vertList: \n",
    "            # Якщо вершини t ще немає у графі, додаємо її. \n",
    "            nv = self.addVertex(t) \n",
    "        # Додаємо зв'язок між вершинами f та t з вагою cost. \n",
    "        self.vertList[f].addNeighbor(self.vertList[t], cost) \n",
    " \n",
    "    def getVertices(self): \n",
    "        # Повертає список імен усіх вершин у графі. \n",
    "        return self.vertList.keys() \n",
    " \n",
    "    def __iter__(self): \n",
    "        # Повертає ітератор по об'єктах типу Vertex. \n",
    "        return iter(self.vertList.values())\n"
   ]
  },
  {
   "cell_type": "markdown",
   "id": "b69d7ad0-7703-4362-b1c0-fa4126324de9",
   "metadata": {},
   "source": [
    "### 1.3. Алгоритм Дейкстри "
   ]
  },
  {
   "cell_type": "code",
   "execution_count": 6,
   "id": "8e674e87-ad31-4979-a1dd-9f9559632a2e",
   "metadata": {},
   "outputs": [
    {
     "name": "stdout",
     "output_type": "stream",
     "text": [
      "4\n",
      "{0: 0, 1: 1, 2: 2, 3: 3, 4: 4}\n"
     ]
    },
    {
     "data": {
      "text/plain": [
       "({1: 0, 0: 1, 2: 1, 3: 2, 4: 3},\n",
       " {1: [1], 0: [1, 0], 2: [1, 2], 3: [1, 2, 3], 4: [1, 2, 3, 4]})"
      ]
     },
     "execution_count": 6,
     "metadata": {},
     "output_type": "execute_result"
    }
   ],
   "source": [
    "import networkx as nx \n",
    " \n",
    "# Створюємо граф G (шляховий граф з 5 вершинами) \n",
    "G = nx.path_graph(5) \n",
    " \n",
    "# Знаходимо найкоротший шлях від вершини 0 до всіх інших вершин та їх довжини \n",
    "length, path = nx.single_source_dijkstra(G, 0) \n",
    " \n",
    "# Виводимо довжину найкоротшого шляху від вершини 0 до вершини 4 \n",
    "print(length[4]) \n",
    " \n",
    "# Виводимо всі довжини найкоротших шляхів від вершини 0 до всіх інших вершин \n",
    "print(length) \n",
    "\n",
    "# Знаходимо найкоротший шлях від вершини 1 до всіх інших вершин та їх довжини \n",
    "nx.single_source_dijkstra(G, source=1) "
   ]
  },
  {
   "cell_type": "markdown",
   "id": "a3f3ff58-50cf-49b6-9a6e-5c44934302bb",
   "metadata": {},
   "source": [
    "### 1.4. Алгоритм Беллмана-Форда "
   ]
  },
  {
   "cell_type": "code",
   "execution_count": 7,
   "id": "adff8e86-8eee-429a-9c53-b028cdaf0c0d",
   "metadata": {},
   "outputs": [
    {
     "name": "stdout",
     "output_type": "stream",
     "text": [
      "4\n",
      "{0: 0, 1: 1, 2: 2, 3: 3, 4: 4}\n"
     ]
    },
    {
     "data": {
      "text/plain": [
       "{1: 0, 0: 1, 2: 1, 3: 2, 4: 3}"
      ]
     },
     "execution_count": 7,
     "metadata": {},
     "output_type": "execute_result"
    }
   ],
   "source": [
    "import networkx as nx \n",
    " \n",
    "# Створюємо граф G (шляховий граф з 5 вершинами) \n",
    "G = nx.path_graph(5) \n",
    " \n",
    "# Знаходимо найкоротший шлях від вершини 0 до всіх інших вершин та їх довжини \n",
    "length = nx.single_source_bellman_ford_path_length(G, 0) \n",
    " \n",
    "# Виводимо довжину найкоротшого шляху від вершини 0 до вершини 4 \n",
    "print(length[4]) \n",
    " \n",
    "# Виводимо всі довжини найкоротших шляхів від вершини 0 до всіх інших вершин \n",
    "print(length) \n",
    " \n",
    "# Знаходимо найкоротший шлях від вершини 1 до всіх інших вершин та їх довжини \n",
    "nx.single_source_bellman_ford_path_length(G, source=1)  "
   ]
  },
  {
   "cell_type": "markdown",
   "id": "86a5c52a-8393-4c87-af8c-5d064e99e934",
   "metadata": {},
   "source": [
    "### 1.5. Візуалізація графа"
   ]
  },
  {
   "cell_type": "code",
   "execution_count": 8,
   "id": "5be9f176-d097-4e85-a778-56d6e18c8c85",
   "metadata": {},
   "outputs": [
    {
     "data": {
      "image/png": "[encoded data removed]",
      "text/plain": [
       "<Figure size 640x480 with 1 Axes>"
      ]
     },
     "metadata": {},
     "output_type": "display_data"
    }
   ],
   "source": [
    "# Виклик magic-команди, яка автоматично відображає графіки у рядку \n",
    "%matplotlib inline \n",
    " \n",
    "# Імпорт необхідних бібліотек \n",
    "import networkx as nx \n",
    "import matplotlib.pyplot as plt \n",
    " \n",
    "# Створення пустого графа \n",
    "G = nx.Graph() \n",
    " \n",
    "# Додавання вершин та ребер \n",
    "G.add_nodes_from(['A', 'B', 'C', 'D', 'E', 'F']) \n",
    "G.add_edges_from([('A', 'B'), ('A', 'C'), ('B', 'D'), \n",
    "                  ('B', 'E'), ('C', 'F'), ('E', 'F')]) \n",
    " \n",
    "# Визначення позицій вершин для відображення графа \n",
    "pos = nx.spring_layout(G) \n",
    " \n",
    "# Візуалізація вершин та їх міток \n",
    "nx.draw_networkx_nodes(G, pos, node_size=700) \n",
    "nx.draw_networkx_labels(G, pos, font_size=20, font_family='sans-serif') \n",
    " \n",
    "# Візуалізація ребер \n",
    "nx.draw_networkx_edges(G, pos, edgelist=G.edges()) \n",
    " \n",
    "# Показ графіка \n",
    "plt.show()"
   ]
  },
  {
   "cell_type": "markdown",
   "id": "1f2847a2-614a-4533-bb37-90209ef7f02c",
   "metadata": {},
   "source": [
    "### 1.6. Алгоритм пошуку в глибину (DFS)"
   ]
  },
  {
   "cell_type": "code",
   "execution_count": 15,
   "id": "2ae67380-0f75-4eb9-af44-46a5d88e9ade",
   "metadata": {},
   "outputs": [
    {
     "name": "stdout",
     "output_type": "stream",
     "text": [
      "{'A', 'F', 'C', 'E', 'B', 'D'}\n"
     ]
    }
   ],
   "source": [
    "import networkx as nx\n",
    "\n",
    "# Створення графа\n",
    "G = nx.Graph()\n",
    "G.add_nodes_from(['A', 'B', 'C', 'D', 'E', 'F'])\n",
    "G.add_edges_from([('A', 'B'), ('A', 'C'), ('B', 'D'),\n",
    "                  ('B', 'E'), ('C', 'F'), ('E', 'F')])\n",
    "\n",
    "# DFS — обхід у глибину, повертає всі досяжні вершини з даної\n",
    "def dfs(graph, start, visited=None):\n",
    "    if visited is None:\n",
    "        visited = set()  # Створюємо пустий набір для збереження відвіданих вершин\n",
    "    visited.add(start)  # Додаємо поточну вершину до відвіданих\n",
    "    # Перебираємо всі суміжні вершини, які ще не були відвідані\n",
    "    for next in set(graph.adj[start].keys()) - visited:\n",
    "        dfs(graph, next, visited)  # Рекурсивний виклик\n",
    "    return visited\n",
    "\n",
    "# Виклик DFS з вершини 'C'\n",
    "print(dfs(G, 'C'))"
   ]
  },
  {
   "cell_type": "code",
   "execution_count": 21,
   "id": "f4cc6668-5de1-47c6-904f-46bfdffd321e",
   "metadata": {},
   "outputs": [
    {
     "name": "stdout",
     "output_type": "stream",
     "text": [
      "[['C', 'A', 'B', 'E', 'F'], ['C', 'F']]\n"
     ]
    }
   ],
   "source": [
    "# Функція dfs_paths також використовує алгоритм пошуку в глибину (DFS), \n",
    "# але вона знаходить всі можливі шляхи з початкової вершини до цільової вершини. \n",
    "# Параметр path використовується для зберігання поточного шляху. \n",
    "def dfs_paths(graph, start, goal, path=None):\n",
    "    if path is None:\n",
    "        path = [start]  # Починаємо шлях з початкової вершини\n",
    "    if start == goal:\n",
    "        yield path  # Досягли мети — повертаємо шлях\n",
    "    # Перебираємо всі сусідні вершини поточної вершини, які ще не відвідані \n",
    "    for next in set(graph.adj[start].keys()) - set(path):\n",
    "        yield from dfs_paths(graph, next, goal, path + [next])  # Рекурсія з оновленим шляхом\n",
    "\n",
    "# Викликаємо функцію dfs_paths з графом G, початковою вершиною 'C' та цільовою вершиною 'F' \n",
    "print(list(dfs_paths(G, 'C', 'F')))"
   ]
  },
  {
   "cell_type": "markdown",
   "id": "46678cf0-6c5e-4f96-9db8-8eb4bfa2c6e7",
   "metadata": {},
   "source": [
    "### 1.7. Пошук у ширину (breadth-first search, BFS)"
   ]
  },
  {
   "cell_type": "code",
   "execution_count": 19,
   "id": "f913bb72-800e-4d04-840e-315ab53f1285",
   "metadata": {},
   "outputs": [
    {
     "data": {
      "text/plain": [
       "[['A', 'C', 'F'], ['A', 'B', 'E', 'F']]"
      ]
     },
     "execution_count": 19,
     "metadata": {},
     "output_type": "execute_result"
    }
   ],
   "source": [
    "def bfs_paths(graph, start, goal): \n",
    "    # Створення черги з початковою вершиною та її шляхом \n",
    "    queue = [(start, [start])] \n",
    "    # Поки черга не порожня \n",
    "    while queue: \n",
    "        # Вибір вершини та її шляху з початка черги \n",
    "        (vertex, path) = queue.pop(0) \n",
    "        # Для кожної сусідньої вершини \n",
    "        for next in set(graph.adj[vertex].keys()) - set(path): \n",
    "            # Якщо сусідня вершина є цільовою \n",
    "            if next == goal: \n",
    "                # Повернення шляху, якщо досягнуто цільову вершину \n",
    "                yield path + [next] \n",
    "            else: \n",
    "                # Додавання сусідньої вершини та нового шляху в чергу \n",
    "                queue.append((next, path + [next])) \n",
    "# Виведення усіх шляхів від вершини 'A' до вершини 'F' за допомогою пошуку в ширину \n",
    "list(bfs_paths(G, 'A', 'F')) "
   ]
  },
  {
   "cell_type": "markdown",
   "id": "0592f43d-6f0b-4bf7-b68e-14829a0bf321",
   "metadata": {},
   "source": [
    "## 2. Виконання завдання"
   ]
  },
  {
   "cell_type": "markdown",
   "id": "42da4326-eac2-4e3d-b6d7-6527dde13c8a",
   "metadata": {},
   "source": [
    "### 2.1. Алгоритм Дейкстри"
   ]
  },
  {
   "cell_type": "code",
   "execution_count": 1,
   "id": "29cec1da-558c-4229-b4cb-2ab882a8087f",
   "metadata": {},
   "outputs": [
    {
     "name": "stdout",
     "output_type": "stream",
     "text": [
      "Довжина найкоротшого шляху від A до F: 9\n",
      "Довжини до всіх вершин: {'A': 0, 'C': 1, 'B': 3, 'E': 3, 'D': 4, 'F': 9}\n"
     ]
    }
   ],
   "source": [
    "import networkx as nx\n",
    "\n",
    "# Створюємо граф з новою структурою\n",
    "G = nx.DiGraph()\n",
    "G.add_edge('A', 'B', weight=3)\n",
    "G.add_edge('A', 'C', weight=1)\n",
    "G.add_edge('B', 'D', weight=2)\n",
    "G.add_edge('C', 'D', weight=4)\n",
    "G.add_edge('C', 'E', weight=2)\n",
    "G.add_edge('E', 'D', weight=1)\n",
    "G.add_edge('D', 'F', weight=5)\n",
    "\n",
    "# Знаходимо найкоротший шлях від 'A' до всіх інших\n",
    "length, path = nx.single_source_dijkstra(G, 'A')\n",
    "\n",
    "# Виводимо довжину найкоротшого шляху від 'A' до 'F'\n",
    "print(\"Довжина найкоротшого шляху від A до F:\", length['F'])\n",
    "\n",
    "# Виводимо всі довжини найкоротших шляхів\n",
    "print(\"Довжини до всіх вершин:\", length)"
   ]
  },
  {
   "cell_type": "markdown",
   "id": "3ac4c243-fd06-4e7c-9e5f-6b84ed62a0cf",
   "metadata": {},
   "source": [
    "### 2.2. Алгоритм Беллмана-Форда"
   ]
  },
  {
   "cell_type": "code",
   "execution_count": 2,
   "id": "546ddb3b-7dad-4c0e-9831-913533ee2705",
   "metadata": {},
   "outputs": [
    {
     "name": "stdout",
     "output_type": "stream",
     "text": [
      "Довжина найкоротшого шляху від A до F (Беллман-Форд): 9\n",
      "Довжини до всіх вершин (Беллман-Форд): {'A': 0, 'B': 3, 'C': 1, 'D': 4, 'E': 3, 'F': 9}\n"
     ]
    }
   ],
   "source": [
    "import networkx as nx\n",
    "\n",
    "# Створюємо граф з новими вершинами та вагами\n",
    "G = nx.DiGraph()\n",
    "G.add_edge('A', 'B', weight=3)\n",
    "G.add_edge('A', 'C', weight=1)\n",
    "G.add_edge('B', 'D', weight=2)\n",
    "G.add_edge('C', 'D', weight=4)\n",
    "G.add_edge('C', 'E', weight=2)\n",
    "G.add_edge('E', 'D', weight=1)\n",
    "G.add_edge('D', 'F', weight=5)\n",
    "\n",
    "# Обчислюємо довжини найкоротших шляхів від вершини 'A'\n",
    "length = nx.single_source_bellman_ford_path_length(G, 'A')\n",
    "\n",
    "# Виводимо довжину найкоротшого шляху від 'A' до 'F'\n",
    "print(\"Довжина найкоротшого шляху від A до F (Беллман-Форд):\", length['F'])\n",
    "\n",
    "# Виводимо всі довжини\n",
    "print(\"Довжини до всіх вершин (Беллман-Форд):\", length)"
   ]
  },
  {
   "cell_type": "markdown",
   "id": "676c3881-a65a-44b7-aadd-c9f9a00fbd98",
   "metadata": {},
   "source": [
    "### Побудова графа для DFS/BFS"
   ]
  },
  {
   "cell_type": "code",
   "execution_count": 7,
   "id": "139d948e-001f-4a57-af82-d42e552f62a0",
   "metadata": {},
   "outputs": [
    {
     "data": {
      "image/png": "[encoded data removed]",
      "text/plain": [
       "<Figure size 640x480 with 1 Axes>"
      ]
     },
     "metadata": {},
     "output_type": "display_data"
    }
   ],
   "source": [
    "%matplotlib inline\n",
    "import networkx as nx\n",
    "import matplotlib.pyplot as plt\n",
    "\n",
    "# Створюємо граф без напрямків (для DFS/BFS)\n",
    "G = nx.Graph()\n",
    "\n",
    "# Додаємо нові вершини та ребра\n",
    "G.add_nodes_from(['A', 'B', 'C', 'D', 'E', 'F'])\n",
    "G.add_edges_from([('A', 'B'), ('A', 'C'), ('B', 'D'),\n",
    "                  ('C', 'D'), ('C', 'E'), ('E', 'D'), ('D', 'F')])\n",
    "\n",
    "# Побудова графіка\n",
    "pos = nx.spring_layout(G)\n",
    "nx.draw_networkx_nodes(G, pos, node_size=700)\n",
    "nx.draw_networkx_labels(G, pos, font_size=20)\n",
    "# Візуалізація ребер \n",
    "nx.draw_networkx_edges(G, pos)\n",
    "plt.title(\"Візуалізація графа для DFS/BFS (новий граф)\")\n",
    "plt.show()"
   ]
  },
  {
   "cell_type": "markdown",
   "id": "fb5549f6-774c-4cb1-858d-f59b71f1835e",
   "metadata": {},
   "source": [
    "### 2.3.1. DFS (обхід у глибину)"
   ]
  },
  {
   "cell_type": "code",
   "execution_count": 4,
   "id": "81f6fd26-2d3f-4a61-a961-502006f49d83",
   "metadata": {},
   "outputs": [
    {
     "name": "stdout",
     "output_type": "stream",
     "text": [
      "Вершини, відвідані за DFS: {'B', 'D', 'C', 'E', 'F', 'A'}\n"
     ]
    }
   ],
   "source": [
    "def dfs(graph, start, visited=None):\n",
    "    if visited is None:\n",
    "        visited = set()\n",
    "    visited.add(start)\n",
    "    for next in set(graph.adj[start].keys()) - visited:\n",
    "        dfs(graph, next, visited)\n",
    "    return visited\n",
    "\n",
    "# Запуск DFS з вершини 'A'\n",
    "visited_nodes = dfs(G, 'A')\n",
    "print(\"Вершини, відвідані за DFS:\", visited_nodes)"
   ]
  },
  {
   "cell_type": "markdown",
   "id": "e461500f-bbe5-4349-9af6-bf76e60b11da",
   "metadata": {},
   "source": [
    "### 2.3.2. DFS: пошук усіх шляхів від A до F"
   ]
  },
  {
   "cell_type": "code",
   "execution_count": 5,
   "id": "f2e3c8ab-a508-470f-a0ca-fae82b4c2184",
   "metadata": {},
   "outputs": [
    {
     "name": "stdout",
     "output_type": "stream",
     "text": [
      "Всі шляхи з A до F (DFS): [['A', 'B', 'D', 'F'], ['A', 'C', 'E', 'D', 'F'], ['A', 'C', 'D', 'F']]\n"
     ]
    }
   ],
   "source": [
    "def dfs_paths(graph, start, goal, path=None):\n",
    "    if path is None:\n",
    "        path = [start]\n",
    "    if start == goal:\n",
    "        yield path\n",
    "    for next in set(graph.adj[start].keys()) - set(path):\n",
    "        yield from dfs_paths(graph, next, goal, path + [next])\n",
    "\n",
    "# Знаходження всіх шляхів з 'A' до 'F'\n",
    "all_paths = list(dfs_paths(G, 'A', 'F'))\n",
    "print(\"Всі шляхи з A до F (DFS):\", all_paths)"
   ]
  },
  {
   "cell_type": "markdown",
   "id": "0c23ab4f-c246-41f7-9a2b-ab0ce5c47ebb",
   "metadata": {},
   "source": [
    "### 2.4. BFS: пошук усіх шляхів від A до F"
   ]
  },
  {
   "cell_type": "code",
   "execution_count": 6,
   "id": "3e1c6406-4309-488f-8d45-c5b962846122",
   "metadata": {},
   "outputs": [
    {
     "name": "stdout",
     "output_type": "stream",
     "text": [
      "Всі шляхи з A до F (BFS): [['A', 'B', 'D', 'F'], ['A', 'C', 'D', 'F'], ['A', 'C', 'E', 'D', 'F']]\n"
     ]
    }
   ],
   "source": [
    "def bfs_paths(graph, start, goal):\n",
    "    queue = [(start, [start])]\n",
    "    while queue:\n",
    "        (vertex, path) = queue.pop(0)\n",
    "        for next in set(graph.adj[vertex].keys()) - set(path):\n",
    "            if next == goal:\n",
    "                yield path + [next]\n",
    "            else:\n",
    "                queue.append((next, path + [next]))\n",
    "\n",
    "# Знаходження всіх шляхів з 'A' до 'F' за BFS\n",
    "bfs_result = list(bfs_paths(G, 'A', 'F'))\n",
    "print(\"Всі шляхи з A до F (BFS):\", bfs_result)"
   ]
  },
  {
   "cell_type": "markdown",
   "id": "a9ba2081-a3c0-4be6-979e-3a6d687aebcc",
   "metadata": {},
   "source": [
    "## 3. Контрольні питання"
   ]
  },
  {
   "cell_type": "markdown",
   "id": "c42aa9c5-721a-4898-95d2-5a118d6dd24f",
   "metadata": {},
   "source": [
    "### 1. Що таке граф у термінах теорії графів? Наведіть приклади реальних ситуацій, де можна застосовувати графи. "
   ]
  },
  {
   "cell_type": "markdown",
   "id": "3e506191-7dbb-401a-b62e-4df10d7bee74",
   "metadata": {},
   "source": [
    "Граф — це математична структура, яка складається з множини вершин (або вузлів) та множини ребер (або дуг), які з'єднують пари вершин. Граф може бути орієнтованим (ребра мають напрямок) або неорієнтованим (ребра не мають напрямку).\n",
    "Приклади застосування графів:\n",
    "\n",
    "- Мережі доріг та транспортні маршрути (вершини — перехрестя, ребра — дороги);\n",
    "- Соціальні мережі (вершини — користувачі, ребра — дружба або підписка);\n",
    "- Мережі комунікацій (комп’ютери як вершини, канали зв’язку — ребра);\n",
    "- Задачі планування і оптимізації, наприклад, найкоротший шлях."
   ]
  },
  {
   "cell_type": "markdown",
   "id": "9f99f683-efda-4d75-a8d4-f0425ce52989",
   "metadata": {},
   "source": [
    "### 2. Які основні види графів існують? Наведіть відмінності між орієнтованими і неорієнтованими графами. "
   ]
  },
  {
   "cell_type": "markdown",
   "id": "d22c036a-f989-4094-9f13-ad74b6360f02",
   "metadata": {},
   "source": [
    "Основні види графів:\n",
    "\n",
    "- Неорієнтований граф — ребра не мають напрямку, зв’язок між вершинами двонаправлений.\n",
    "- Орієнтований граф (орграф) — ребра мають напрямок від однієї вершини до іншої.\n",
    "- Зважений граф — кожне ребро має вагу (вартість).\n",
    "- Незважений граф — ребра без ваг.\n",
    "- Простий граф — без петель і кратних ребер.\n",
    "- Мультиграф — допускає кратні ребра між одними й тими ж вершинами.\n",
    "- Циклічний та ациклічний граф — залежно від наявності циклів."
   ]
  },
  {
   "cell_type": "markdown",
   "id": "9abf5019-6cd0-4045-a575-bc854ef00084",
   "metadata": {},
   "source": [
    "### 3. Як можна представити граф у пам’яті комп'ютера? Опишіть структури даних, які використовуються для зберігання графів. "
   ]
  },
  {
   "cell_type": "markdown",
   "id": "d8cc3226-3526-4519-917e-77fdf30cfa01",
   "metadata": {},
   "source": [
    "Основні структури даних для зберігання графів:\n",
    "\n",
    "- Матриця суміжності:\n",
    "Двовимірний масив розміру |V|×|V|, де |V| — кількість вершин.\n",
    "Елемент matrix[i][j] дорівнює 1 (або вазі ребра), якщо існує ребро з вершини i в вершину j, і 0 — інакше.\n",
    "Переваги: швидкий доступ для перевірки наявності ребра.\n",
    "Недоліки: велика пам'ять для розріджених графів.\n",
    "- Список суміжності:\n",
    "Для кожної вершини зберігається список її сусідів (вершин, з якими вона з’єднана ребром).\n",
    "Переваги: ефективне збереження розріджених графів, економія пам’яті.\n",
    "Недоліки: повільніший доступ для перевірки конкретного ребра.\n",
    "- Список ребер:\n",
    "Масив або список, де зберігаються всі ребра графа як пари (або трійки для зважених) вершин."
   ]
  },
  {
   "cell_type": "markdown",
   "id": "98c4d8ff-92ed-492c-9394-05e5de701ae6",
   "metadata": {},
   "source": [
    "### 4. Як працює алгоритм пошуку в ширину (BFS) на графах? Наведіть приклади ситуацій, де застосовується цей алгоритм. "
   ]
  },
  {
   "cell_type": "markdown",
   "id": "ef7402ec-60f1-44ed-90ba-6a2e8960f279",
   "metadata": {},
   "source": [
    "- Алгоритм BFS:\n",
    "Починається з початкової вершини.\n",
    "Використовує чергу для послідовного обходу сусідніх вершин по рівнях: спочатку всі вершини на відстані 1, потім 2 і т.д.\n",
    "Відвідує вершини рівень за рівнем, гарантуючи, що найкоротший шлях (в термінах кількості ребер) до будь-якої вершини буде знайдений.\n",
    "- Приклади застосування BFS:\n",
    "Пошук найкоротшого шляху в невагомому графі.\n",
    "Перевірка зв’язності графа.\n",
    "Пошук у лабіринтах.\n",
    "Розподіл ресурсів у мережах."
   ]
  },
  {
   "cell_type": "markdown",
   "id": "087e4406-da54-49a3-b06a-b3e4dc72d933",
   "metadata": {},
   "source": [
    "### 5. Що таке алгоритм пошуку в глибину (DFS) на графах? Як він відрізняється від BFS? Дайте приклади задач, де використовується DFS."
   ]
  },
  {
   "cell_type": "markdown",
   "id": "a868cac6-619f-4236-86e0-88e48ad5dee9",
   "metadata": {},
   "source": [
    "- Алгоритм DFS:\n",
    "Рекурсивний або з використанням стеку метод обходу графа.\n",
    "Глибоко заходить у граф, рухаючись від поточної вершини до сусіда, доки можна. Потім повертається назад, щоб дослідити інші гілки.\n",
    "- Відмінність від BFS:\n",
    "DFS заходить «вглиб» однієї гілки, BFS — обходить рівнями.\n",
    "DFS може використовуватися для перевірки циклів, топологічного сортування, пошуку компонент зв’язності.\n",
    "BFS гарантовано знайде найкоротший шлях у невагомому графі, DFS — ні.\n",
    "- Приклади задач для DFS:\n",
    "Знаходження всіх шляхів між двома вершинами.\n",
    "Перевірка ациклічності графа.\n",
    "Топологічне сортування.\n",
    "Пошук сильнозв’язних компонент."
   ]
  },
  {
   "cell_type": "markdown",
   "id": "102b90e0-a46c-48d9-99b7-cd6c998bfa74",
   "metadata": {},
   "source": [
    "### 6. Опишіть алгоритм Дейкстри для пошуку найкоротшого шляху в графі. Які умови повинні виконуватися для успішної роботи цього алгоритму? "
   ]
  },
  {
   "cell_type": "markdown",
   "id": "3b488ccf-ef0e-4390-bfd1-bf8ba570726b",
   "metadata": {},
   "source": [
    "- Алгоритм Дейкстри:\n",
    "Починається з початкової вершини, встановлює відстані до всіх інших вершин як нескінченність, окрім початкової (0).\n",
    "Вибирає вершину з найменшою відомою відстанню, оновлює відстані до її сусідів, якщо вони можуть бути покращені через неї.\n",
    "Повторює процес, доки всі вершини не будуть оброблені.\n",
    "- Умови для роботи алгоритму:\n",
    "Граф має бути зваженим з невід’ємними вагами ребер (ваги ≥ 0).\n",
    "Якщо є негативні ребра — алгоритм Дейкстри може дати некоректний результат."
   ]
  },
  {
   "cell_type": "code",
   "execution_count": null,
   "id": "2e8f3e40-28bf-4b4b-8087-c2fc3c2fcfdf",
   "metadata": {},
   "outputs": [],
   "source": []
  }
 ],
 "metadata": {
  "kernelspec": {
   "display_name": "BoiaryntsovaPolina_OpenCV",
   "language": "python",
   "name": "boiaryntsovapolina_opencv"
  },
  "language_info": {
   "codemirror_mode": {
    "name": "ipython",
    "version": 3
   },
   "file_extension": ".py",
   "mimetype": "text/x-python",
   "name": "python",
   "nbconvert_exporter": "python",
   "pygments_lexer": "ipython3",
   "version": "3.10.16"
  }
 },
 "nbformat": 4,
 "nbformat_minor": 5
}

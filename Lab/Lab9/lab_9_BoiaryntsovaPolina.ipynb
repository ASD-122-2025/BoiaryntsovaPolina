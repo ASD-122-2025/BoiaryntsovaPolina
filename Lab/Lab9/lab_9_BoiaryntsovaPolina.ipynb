{
 "cells": [
  {
   "cell_type": "markdown",
   "id": "14412b2b-0025-43ee-aa99-2d09f5884827",
   "metadata": {},
   "source": [
    "# Лабораторна робота №9\n",
    "## Тема: Алгоритми на рядках \n",
    "### Виконала: Бояринцова Поліна\n",
    "### Група: КН-24-1\n",
    "### Дата: 17.05.2025"
   ]
  },
  {
   "cell_type": "markdown",
   "id": "43153b46-40ed-4121-8862-5fd5d1bdc7e7",
   "metadata": {},
   "source": [
    "## 1. Реалізація прикладів"
   ]
  },
  {
   "cell_type": "markdown",
   "id": "3f7e5a24-40cf-4c9d-9632-d3fd524911b2",
   "metadata": {},
   "source": [
    "### 1.1. Наївний пошук шаблонів (The Naive String Matching Algorithm) "
   ]
  },
  {
   "cell_type": "code",
   "execution_count": 7,
   "id": "c3fe49c3-3174-441e-b4f2-7e03ed087d2d",
   "metadata": {},
   "outputs": [],
   "source": [
    "def naive_match(p, t): \n",
    "    assert len(p) <= len(t)  # припускаємо, що довжина шаблону не більша за довжину тексту \n",
    "    occurrences = [] \n",
    "    for i in range(0, len(t)-len(p)+1): # для кожного вирівнювання шаблону на текст \n",
    "        match = True  # припускаємо, що є збіг, доки не доведено зворотнє \n",
    "        for j in range(0, len(p)):  # для кожної позиції шаблону \n",
    "            if t[i+j] != p[j]: \n",
    "                match = False  # принаймні один символ не збігається \n",
    "                break \n",
    "        if match: \n",
    "            occurrences.append(i) \n",
    "    return occurrences "
   ]
  },
  {
   "cell_type": "code",
   "execution_count": 8,
   "id": "0babbc23-5ab1-45fa-b3d1-7ec8ef5e37b2",
   "metadata": {},
   "outputs": [
    {
     "data": {
      "text/plain": [
       "'dlenee'"
      ]
     },
     "execution_count": 8,
     "metadata": {},
     "output_type": "execute_result"
    }
   ],
   "source": [
    "t = 'needleneedleneedle'\n",
    "p = 'needle'\n",
    "t[9 : 9 + len(p)]  # тобто t[9:15]"
   ]
  },
  {
   "cell_type": "code",
   "execution_count": 9,
   "id": "786f5465-359e-4c24-8a88-0beca7c4f8aa",
   "metadata": {},
   "outputs": [
    {
     "data": {
      "text/plain": [
       "[0, 3, 6]"
      ]
     },
     "execution_count": 9,
     "metadata": {},
     "output_type": "execute_result"
    }
   ],
   "source": [
    "naive_match('abc', 'abcabcabc') "
   ]
  },
  {
   "cell_type": "markdown",
   "id": "415d3d50-a8ff-457d-8c2d-7e46f3628d2d",
   "metadata": {},
   "source": [
    "### 1.2. Z-функція "
   ]
  },
  {
   "cell_type": "code",
   "execution_count": 10,
   "id": "476ce56c-0e59-4749-8932-26349c9efaba",
   "metadata": {},
   "outputs": [],
   "source": [
    "def z_func(s): \n",
    "    # Ініціалізуємо масив Z, в якому будемо зберігати значення Z-функції \n",
    "    Z = [len(s)] + [0] * (len(s) - 1) # Встановлюємо довжину рядка s у першому елементі масиву Z, а решту заповнюємо нулями \n",
    "    \n",
    "    assert len(s) > 1  # Перевіряємо, що довжина рядка s більше 1\n",
    "\n",
    "    # Початкове порівняння s[1:] з префіксом s[0:]\n",
    "    for i in range(1, len(s)):\n",
    "        # Порівнюємо символи s[i] та s[i-1]. Якщо однакові — збільшуємо Z[1]\n",
    "        if s[i] == s[i - 1]:\n",
    "            Z[1] += 1\n",
    "        else:\n",
    "            break  # При першій невідповідності — зупиняємось\n",
    "\n",
    "    # Встановлюємо межі правої частини (r) і лівої (l) збігу\n",
    "    r, l = 0, 0\n",
    "    if Z[1] > 0:\n",
    "        l, r = 1, Z[1]\n",
    "\n",
    "    # Обчислення Z-функції для кожного k від 2 до len(s) - 1\n",
    "    for k in range(2, len(s)):\n",
    "        assert Z[k] == 0  # Перевірка, що значення Z[k] спочатку дорівнює 0 \n",
    "\n",
    "        if k > r:\n",
    "            # Випадок 1: k за межами поточного діапазону [l, r] \n",
    "            for i in range(k, len(s)):\n",
    "                # Порівнюємо символи s[i] та s[i-k]. Якщо вони співпадають, збільшуємо значення Z[k] \n",
    "                if s[i] == s[i - k]:\n",
    "                    Z[k] += 1\n",
    "                else:\n",
    "                    break\n",
    "            # Оновлюємо значення змінних r та l \n",
    "            l, r = k, k + Z[k] - 1\n",
    "        else:\n",
    "            # Випадок 2: k всередині поточного [l, r]\n",
    "            # Обчислюємо довжину бета (nbeta) та значення Z-функції на попередньому кроці (Zkp)\n",
    "            nbeta = r - k + 1\n",
    "            Zkp = Z[k - l]\n",
    "            if nbeta > Zkp:\n",
    "                # Підвипадок 2а: повністю копіюємо\n",
    "                Z[k] = Zkp\n",
    "            else:\n",
    "                # Підвипадок 2б: порівнюємо далі за межами r\n",
    "                nmatch = 0\n",
    "                for i in range(r + 1, len(s)):\n",
    "                    if s[i] == s[i - k]:\n",
    "                        nmatch += 1\n",
    "                    else:\n",
    "                        break\n",
    "                l, r = k, r + nmatch\n",
    "                Z[k] = r - k + 1\n",
    "\n",
    "    return Z"
   ]
  },
  {
   "cell_type": "code",
   "execution_count": 11,
   "id": "bd18ba73-dc03-4850-9172-52274031ddcf",
   "metadata": {},
   "outputs": [
    {
     "data": {
      "text/plain": [
       "[11, 0, 0, 1, 0, 1, 0, 4, 0, 0, 1]"
      ]
     },
     "execution_count": 11,
     "metadata": {},
     "output_type": "execute_result"
    }
   ],
   "source": [
    "z_func('abracadabra') \n",
    "#  abracadabra (11) \n",
    "#     a        (1) \n",
    "#       a      (1) \n",
    "#         abra (4) \n",
    "#            a (1) "
   ]
  },
  {
   "cell_type": "markdown",
   "id": "aba08f78-5f59-4d47-a2e9-4427f074ada5",
   "metadata": {},
   "source": [
    "### 1.3. Пошук підрядка в рядку "
   ]
  },
  {
   "cell_type": "code",
   "execution_count": 12,
   "id": "5ab726aa-db9f-441f-a5c8-252c1ce46cbf",
   "metadata": {},
   "outputs": [
    {
     "name": "stdout",
     "output_type": "stream",
     "text": [
      "[16, 0, 0, 2, 0, 2, 0, 1, 0, 1, 0, 1, 0, 1, 0, 1]\n"
     ]
    }
   ],
   "source": [
    "def zMatch(p, t): \n",
    "    # Формуємо розширений рядок s, де p – це шаблон, а t – текст, який шукаємо. \n",
    "    s = p + \"$\" + t \n",
    "     \n",
    "    # Обчислюємо масив Z для рядка s.  \n",
    "    z_func(s) \n",
    "     \n",
    " # Ініціалізуємо список occurrences для зберігання позицій, де відбувається збіг з шаблоном. \n",
    "    occurrences = [] \n",
    "     \n",
    "    # Проходимо по всім позиціям збігу шаблону з текстом у рядку s. \n",
    "    # Починаємо з позиції, що відповідає кінцю шаблону (len(p) + 1) і до кінця рядка s. \n",
    "    for i in range(len(p) + 1, len(s)): \n",
    "        # Якщо значення Z на поточній позиції рівне довжині шаблону, то це означає, що відбувся збіг. \n",
    "        if Z[i] == len(p): \n",
    "            # Додаємо позицію, де відбувся збіг, до списку occurrences. \n",
    " # Позиція розраховується як i – (len(p) + 1), оскільки ми розглядаємо розширений рядок s, \n",
    "            # де шаблон p розташований на початку, перед \"$\". \n",
    "            occurrences.append(i - (len(p) + 1)) \n",
    "     \n",
    "    # Повертаємо список знайдених збігів. \n",
    "    return occurrences \n",
    "t, p = \"абабагаламага\", \"аб\" \n",
    "calculated_z = z_func(\"аб$абабагаламага\") \n",
    "print(calculated_z) "
   ]
  },
  {
   "cell_type": "markdown",
   "id": "e577704b-250f-4d46-89ff-c306e6fdd0f7",
   "metadata": {},
   "source": [
    "### 1.4. Стиснення рядка "
   ]
  },
  {
   "cell_type": "code",
   "execution_count": 14,
   "id": "38e733df-571b-44fd-86b2-6fefca4cd62a",
   "metadata": {},
   "outputs": [
    {
     "name": "stdout",
     "output_type": "stream",
     "text": [
      "[24, 0, 0, 0, 0, 1, 0, 0, 16, 0, 0, 0, 0, 1, 0, 0, 8, 0, 0, 0, 0, 1, 0, 0]\n",
      "абырвалг\n"
     ]
    }
   ],
   "source": [
    "def compress_with_z(s): \n",
    "    # Обчислюємо Z-вектор для рядка s \n",
    "    z_vec = z_func(s) \n",
    "     \n",
    "    # Проходимо по елементам Z-вектора, починаючи з індексу 1 \n",
    "    for i in range(1, len(s)): \n",
    "        # Перевіряємо, чи виконуються умови для оптимального стиснення \n",
    "        if (i + z_vec[i] == len(s)) and (z_vec[i] % i == 0): \n",
    "            # Якщо умови виконуються, повертаємо частину рядка s, яка буде стиснута \n",
    "            return s[:i] \n",
    "     \n",
    " # Якщо жодна пара (i, z_vec[i]) не відповідає умовам, повертаємо вихідний рядок s без змін \n",
    "    else: \n",
    "        return s \n",
    " \n",
    "s = \"абырвалгабырвалгабырвалг\" \n",
    "print(z_func(s)) \n",
    "print(compress_with_z(s)) "
   ]
  },
  {
   "cell_type": "markdown",
   "id": "61a4ebd2-85b1-4503-8b49-bdbe53e76d62",
   "metadata": {},
   "source": [
    "## 2. Робота алгоритмів з довілним рядком"
   ]
  },
  {
   "cell_type": "code",
   "execution_count": 15,
   "id": "33f2791c-9516-4c1e-b9ea-64b447cf8a0c",
   "metadata": {},
   "outputs": [
    {
     "name": "stdout",
     "output_type": "stream",
     "text": [
      "Naive Match: [0, 8, 16]\n",
      "Z-функція для p + '$' + t: [33, 0, 0, 0, 0, 0, 0, 0, 0, 8, 0, 0, 0, 0, 0, 0, 0, 8, 0, 0, 0, 0, 0, 0, 0, 8, 0, 0, 0, 0, 0, 0, 0]\n",
      "Z-Match: [0, 8, 16]\n",
      "Z-функція для стиснення: [24, 0, 0, 0, 0, 0, 0, 0, 16, 0, 0, 0, 0, 0, 0, 0, 8, 0, 0, 0, 0, 0, 0, 0]\n",
      "Стиснення: карамель\n"
     ]
    }
   ],
   "source": [
    "# Нові рядки\n",
    "t = \"карамелькарамелькарамель\"\n",
    "p = \"карамель\"\n",
    "\n",
    "# Результати\n",
    "print(\"Naive Match:\", naive_match(p, t))  # Очікуємо [0, 8, 16]\n",
    "print(\"Z-функція для p + '$' + t:\", z_func(p + \"$\" + t))\n",
    "print(\"Z-Match:\", zMatch(p, t))\n",
    "print(\"Z-функція для стиснення:\", z_func(t))\n",
    "print(\"Стиснення:\", compress_with_z(t))  # Очікуємо \"карамель\""
   ]
  },
  {
   "cell_type": "markdown",
   "id": "fde7d439-b379-49d3-a7d2-c8c8273695ee",
   "metadata": {},
   "source": [
    "## 3. Пояснення асимптотики наївного алгоритму пошуку підрядка. "
   ]
  },
  {
   "cell_type": "markdown",
   "id": "cdf49163-3a81-43b9-b22b-60d7b1278f3a",
   "metadata": {},
   "source": [
    "- n = len(t) — довжина тексту\n",
    "- m = len(p) — довжина шаблону\n",
    "У найгіршому випадку:  \n",
    "Для кожного з `n - m + 1` вирівнювання (ітерацій зовнішнього циклу) потрібно зробити до `m` порівнянь (внутрішній цикл).  \n",
    "Усі порівняння символів — це `O(m)`, а кількість позицій — `O(n - m + 1)` ≈ `O(n).`  \n",
    "\n",
    "Сумарна складність:\n",
    "`O(n⋅m)`"
   ]
  },
  {
   "cell_type": "markdown",
   "id": "b47d3d8c-9b44-43bf-9ad5-2c530dbde41d",
   "metadata": {},
   "source": [
    "## 4. Обчислення асимптотичної складності алгоритму стиснення рядка за допомогою 𝑧-функції. "
   ]
  },
  {
   "cell_type": "markdown",
   "id": "d56f0c00-2bf4-45c9-84c3-4654eca2633f",
   "metadata": {},
   "source": [
    "1. Обчислення Z-функції:  \n",
    "Вона рахується за `O(n)` — дуже швидко, де n — довжина рядка.  \n",
    "2. Перевірка можливих варіантів шаблону:  \n",
    "Ми просто дивимось на всі позиції 1 до n-1, тобто ще `O(n)`.\n",
    "3. Сумарна складність O(n) + O(n) = O(2n) -> `O(n)`."
   ]
  },
  {
   "cell_type": "markdown",
   "id": "72dfa69d-92a8-4400-8875-121cba95e7f6",
   "metadata": {},
   "source": [
    "## 5. Контрольні питання"
   ]
  },
  {
   "cell_type": "markdown",
   "id": "ef4498b6-3dc1-4b8c-8229-6624fe214043",
   "metadata": {},
   "source": [
    "### 1. Що таке «префікс-функція» у контексті алгоритмів на рядках, і як вона відрізняється від Z-функції? "
   ]
  },
  {
   "cell_type": "markdown",
   "id": "53747ccb-0e5c-479a-bff6-f3a82422b1b2",
   "metadata": {},
   "source": [
    "Префікс-функція — це масив, де в кожному елементі зберігається довжина найбільшого префікса, який одночасно є суфіксом для підрядка s[0:i], не включаючи повний рядок."
   ]
  },
  {
   "cell_type": "markdown",
   "id": "7d6d18eb-4832-4ecc-91ba-044e9090961b",
   "metadata": {},
   "source": [
    "### 2. Що таке Z-функція у вищому контексті алгоритмів на рядках, і яка її роль у вирішенні задач?"
   ]
  },
  {
   "cell_type": "markdown",
   "id": "bf51bb74-0f9c-4bf1-b5cd-11e0694e1bff",
   "metadata": {},
   "source": [
    "Z-функція для рядка s — це масив Z, де Z[i] показує, яка максимальна довжина підрядка, що починається з позиції i і є префіксом всього рядка s.  \n",
    "Для чого використовується Z-функція:\n",
    "Пошук підрядка за допомогою шаблону.\n",
    "Обчислення повторів, стиснення рядка\n",
    "Аналіз тексту (пошук префіксів/суфіксів)"
   ]
  },
  {
   "cell_type": "markdown",
   "id": "64068bff-9c38-49fe-840c-40357a1ad0dc",
   "metadata": {},
   "source": [
    "### 3. Які існують підходи до вирішення задачі «найдовший спільний підрядок» для двох рядків? "
   ]
  },
  {
   "cell_type": "markdown",
   "id": "d90292d0-850e-401a-8fe6-3408e5776f31",
   "metadata": {},
   "source": [
    "Основні підходи:\n",
    "- Динамічне програмування (DP) — класичний підхід:\n",
    "Створюємо таблицю dp[i][j], де зберігається довжина спільного підрядка, що закінчується в s1[i] і s2[j].\n",
    "Складність: O(n * m)\n",
    "- Хешування (Rolling Hash):\n",
    "Бінарний пошук по довжині + хеш\n",
    "Складність: O(n log n)"
   ]
  },
  {
   "cell_type": "markdown",
   "id": "08549089-d528-4eb7-b0e5-d0e28075fdf4",
   "metadata": {},
   "source": [
    "### 4. Як можна застосувати алгоритми на рядках у задачах обробки природної мови або обробки текстів? "
   ]
  },
  {
   "cell_type": "markdown",
   "id": "b36cf701-3241-4d51-b5fe-5f797539a7f3",
   "metadata": {},
   "source": [
    "Приклади застосування:\n",
    "\n",
    "- Пошук слів/фраз у текстах — Z-функція, KMP\n",
    "- Визначення схожості між текстами\n",
    "- Автодоповнення / перевірка орфографії\n",
    "- Аналіз частоти слів, дублювання — хеш-таблиці + пошук шаблонів\n",
    "- Пошук плагіату — порівняння підрядків\n",
    "- Стискання тексту — Z-функція\n",
    "- Розпізнавання шаблонів (імейли, теги) —  пошук шаблонів"
   ]
  }
 ],
 "metadata": {
  "kernelspec": {
   "display_name": "BoiaryntsovaPolina_OpenCV",
   "language": "python",
   "name": "boiaryntsovapolina_opencv"
  },
  "language_info": {
   "codemirror_mode": {
    "name": "ipython",
    "version": 3
   },
   "file_extension": ".py",
   "mimetype": "text/x-python",
   "name": "python",
   "nbconvert_exporter": "python",
   "pygments_lexer": "ipython3",
   "version": "3.10.16"
  }
 },
 "nbformat": 4,
 "nbformat_minor": 5
}

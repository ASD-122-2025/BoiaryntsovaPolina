{
 "cells": [
  {
   "cell_type": "markdown",
   "id": "33ea4ebe-2b5c-491f-8260-6025e2de24d2",
   "metadata": {},
   "source": [
    "# Лабораторна робота №7\n",
    "## Тема: Структури даних дерево, купа, геш-таблиця\n",
    "### Виконала: Бояринцова Поліна\n",
    "### Група: КН-24-1\n",
    "### Дата: 12.04.2025"
   ]
  },
  {
   "cell_type": "markdown",
   "id": "c2b32a7e-c8bd-4c46-92f9-caa6e4683cf5",
   "metadata": {},
   "source": [
    "## 1. Реалізація дерев за допомогою списків"
   ]
  },
  {
   "cell_type": "code",
   "execution_count": 1,
   "id": "7f9dea65-0dd9-4ef5-8bd4-758ba8f2f828",
   "metadata": {},
   "outputs": [
    {
     "name": "stdout",
     "output_type": "stream",
     "text": [
      "['a', ['b', ['d', [], []], ['e', [], []]], ['c', ['f', [], []], []]]\n",
      "left subtree =  ['b', ['d', [], []], ['e', [], []]]\n",
      "root =  a\n",
      "right subtree =  ['c', ['f', [], []], []]\n",
      "e\n"
     ]
    }
   ],
   "source": [
    "myTree = ['a', ['b', ['d',[],[]], ['e',[],[]] ], ['c', ['f',[],[]], []] ]\n",
    "print(myTree)\n",
    "print('left subtree = ', myTree[1])\n",
    "print('root = ', myTree[0])\n",
    "print('right subtree = ', myTree[2])\n",
    "print(myTree[1][2][0])"
   ]
  },
  {
   "cell_type": "code",
   "execution_count": 2,
   "id": "51ade5c8-4a48-49d8-be17-65dd3be1f803",
   "metadata": {},
   "outputs": [],
   "source": [
    "# Задання вузла бінарного дерева\n",
    "def BinaryTree(r):\n",
    "    return [r, [], []]\n",
    "\n",
    "# Додавання елемента у ліве піддерево\n",
    "def insertLeft(root, newBranch):\n",
    "    t = root.pop(1)\n",
    "    if len(t) > 1:\n",
    "        root.insert(1, [newBranch, t, []])\n",
    "    else:\n",
    "        root.insert(1, [newBranch, [], []])\n",
    "    return root\n",
    "\n",
    "# Додавання елемента у праве піддерево\n",
    "def insertRight(root, newBranch):\n",
    "    t = root.pop(2)\n",
    "    if len(t) > 1:\n",
    "        root.insert(2, [newBranch, [], t])\n",
    "    else:\n",
    "        root.insert(2, [newBranch, [], []])\n",
    "    return root\n",
    "\n",
    "# Повернути значення кореневого елемента\n",
    "def getRootVal(root):\n",
    "    return root[0]\n",
    "\n",
    "# Присвоєння нового значення кореневому елементу\n",
    "def setRootVal(root, newVal):\n",
    "    root[0] = newVal\n",
    "\n",
    "# Повернути ліве піддерево\n",
    "def getLeftChild(root):\n",
    "    return root[1]\n",
    "\n",
    "# Повернути праве піддерево\n",
    "def getRightChild(root):\n",
    "    return root[2]\n"
   ]
  },
  {
   "cell_type": "code",
   "execution_count": 3,
   "id": "a5fbb770-1547-4b91-910c-02d904511d75",
   "metadata": {},
   "outputs": [
    {
     "name": "stdout",
     "output_type": "stream",
     "text": [
      "[5, [4, [], []], []]\n",
      "[3, [9, [4, [], []], []], [7, [], [6, [], []]]]\n",
      "[3, [9, [11, [4, [], []], []], []], [7, [], [6, [], []]]]\n",
      "[6, [], []]\n"
     ]
    }
   ],
   "source": [
    "# Приклад\n",
    "r = BinaryTree(3)\n",
    "insertLeft(r,4)\n",
    "insertLeft(r,5)\n",
    "insertRight(r,6)\n",
    "insertRight(r,7)\n",
    "l = getLeftChild(r)\n",
    "print(l)\n",
    "setRootVal(l,9)\n",
    "print(r)\n",
    "insertLeft(l,11)\n",
    "print(r)\n",
    "print(getRightChild(getRightChild(r)))"
   ]
  },
  {
   "cell_type": "markdown",
   "id": "726be08d-7796-4999-9e1b-44856ef2a494",
   "metadata": {},
   "source": [
    "### 1.2. Створення бінарного дерева та операції з ним:"
   ]
  },
  {
   "cell_type": "code",
   "execution_count": 4,
   "id": "66167b28-8839-40c5-8f3c-18728b0900ae",
   "metadata": {},
   "outputs": [],
   "source": [
    "class Node:\n",
    "    def __init__(self, key):\n",
    "        self.left = None\n",
    "        self.right = None\n",
    "        self.value = key\n",
    "\n",
    "class BinarySearchTree:\n",
    "    def __init__(self):\n",
    "        self.root = None\n",
    "    \n",
    "    def insert(self, root, key):\n",
    "        if root is None:\n",
    "            return Node(key)\n",
    "        if key < root.value:\n",
    "            root.left = self.insert(root.left, key)\n",
    "        else:\n",
    "            root.right = self.insert(root.right, key)\n",
    "        return root\n",
    "    \n",
    "    def search(self, root, key):\n",
    "        if root is None or root.value == key:\n",
    "            return root\n",
    "        if key < root.value:\n",
    "            return self.search(root.left, key)\n",
    "        return self.search(root.right, key)\n",
    "    \n",
    "    def delete(self, root, key):\n",
    "        if root is None:\n",
    "            return root\n",
    "        if key < root.value:\n",
    "            root.left = self.delete(root.left, key)\n",
    "        elif key > root.value:\n",
    "            root.right = self.delete(root.right, key)\n",
    "        else:\n",
    "            if root.left is None:\n",
    "                return root.right\n",
    "            elif root.right is None:\n",
    "                return root.left\n",
    "            min_node = self._min_value_node(root.right)\n",
    "            root.value = min_node.value\n",
    "            root.right = self.delete(root.right, min_node.value)\n",
    "        return root\n",
    "    \n",
    "    def _min_value_node(self, node):\n",
    "        current = node\n",
    "        while current.left is not None:\n",
    "            current = current.left\n",
    "        return current"
   ]
  },
  {
   "cell_type": "markdown",
   "id": "4e8e7a40-b755-4b6b-8c4b-b511935e5e04",
   "metadata": {},
   "source": [
    "### 1.3. Асимптотична складність."
   ]
  },
  {
   "cell_type": "markdown",
   "id": "614e6523-9cf9-473e-ad9d-d384e47b2a11",
   "metadata": {},
   "source": [
    "| Операція | В середньому | Найгірший випадок |\n",
    "|----------|---------------|--------------------|\n",
    "| Search   | Θ(n)          | O(n)               |\n",
    "| Insert   | Θ(log n)      | O(n)               |\n",
    "| Delete   | Θ(log n)      | O(n)               |"
   ]
  },
  {
   "cell_type": "markdown",
   "id": "2853841b-e3f1-4db0-8c65-a5cd48200d31",
   "metadata": {},
   "source": [
    "## 2. Декілька простих функцій Python для роботи з купами"
   ]
  },
  {
   "cell_type": "code",
   "execution_count": 5,
   "id": "87f52c81-7ffc-402b-8b06-a2ccfab7bea3",
   "metadata": {},
   "outputs": [],
   "source": [
    "global heap\n",
    "global currSize\n",
    "def parent(i): #Отримати індекс батьківського вузла для i-го елемента\n",
    " return i // 2\n",
    "def left(i): #Отримати лівий дочірній елемент от i-го\n",
    " return 2*i\n",
    "def right(i): #Отримати правий дочірній елемент от i-го\n",
    " return (2*i + 1)"
   ]
  },
  {
   "cell_type": "markdown",
   "id": "0ff1bb92-4794-4bef-8551-275abb6ecefd",
   "metadata": {},
   "source": [
    "### 2.1. Додавання елемента до наявної купи"
   ]
  },
  {
   "cell_type": "code",
   "execution_count": 6,
   "id": "5d7a733c-c422-4f85-8136-2aafa1c4c33c",
   "metadata": {},
   "outputs": [],
   "source": [
    "def swap(a, b): # міняемо елемент з індексом a на елемент з індексом b\n",
    " temp = heap[a]\n",
    " heap[a] = heap[b]\n",
    " heap[b] = temp\n",
    "def insert(elem):\n",
    " global currSize\n",
    "\n",
    " index = len(heap)\n",
    " heap.append(elem)\n",
    " currSize += 1\n",
    " par = parent(index)\n",
    " flag = 0\n",
    " while flag != 1:\n",
    "     if index == 1: #Дійшли до кореневого елемента\n",
    "         flag = 1\n",
    "     elif heap[par] > elem: #Якщо індекс кореневого елемента більше індекса\n",
    "# нашего елемента – наш елемент на своєму місці\n",
    "         flag = 1\n",
    "     else: #Міняємо місцями батьківський елемент з нашим\n",
    "         swap(par, index)\n",
    "         index = par\n",
    "         par = parent(index)\n",
    "\n",
    " print(heap)"
   ]
  },
  {
   "cell_type": "markdown",
   "id": "b97936d3-7067-4a5c-bc63-942f2b1b2463",
   "metadata": {},
   "source": [
    "### 2.2. Вилучення максимального елемента купи"
   ]
  },
  {
   "cell_type": "code",
   "execution_count": 7,
   "id": "b60783d3-24a8-40cc-8a29-ff26cdc18351",
   "metadata": {},
   "outputs": [],
   "source": [
    "def extractMax():\n",
    " global currSize\n",
    " if currSize != 0:\n",
    "     maxElem = heap[1]\n",
    "     heap[1] = heap[currSize] # Замінюємо кореневий елемент – останнім\n",
    "     heap.pop(currSize) # Видаляємо останній елемент\n",
    "     currSize -= 1 # Зменшуємо розмір купи\n",
    "     maxHeapify(1)\n",
    " return maxElem\n",
    "def maxHeapify(index):\n",
    " global currSize\n",
    "\n",
    " lar = index\n",
    " l = left(index)\n",
    " r = right(index)\n",
    " # Обчислюємо, який із дочірніх елементів більше; якщо він більше батьківського - міняємо місцями\n",
    " if l <= currSize and heap[l] > heap[lar]:\n",
    "     lar = l\n",
    " if r <= currSize and heap[r] > heap[lar]:\n",
    "     lar = r\n",
    " if lar != index:\n",
    "    swap(index, lar)\n",
    "    maxHeapify(lar)"
   ]
  },
  {
   "cell_type": "markdown",
   "id": "543e6c44-a377-4db0-9d02-049046aa9e45",
   "metadata": {},
   "source": [
    "### 2.3. Генерація купи з випадкового масиву (С.р.) :"
   ]
  },
  {
   "cell_type": "code",
   "execution_count": 8,
   "id": "61f9e6cc-7c37-40da-bcc5-99d2ce9aea9d",
   "metadata": {},
   "outputs": [
    {
     "name": "stdout",
     "output_type": "stream",
     "text": [
      "Original array: [47, 53, 20, 70, 20, 11, 93, 98, 82, 85]\n",
      "Heapified array: [98, 85, 93, 82, 47, 11, 20, 70, 53, 20]\n"
     ]
    }
   ],
   "source": [
    "import random\n",
    "\n",
    "def heapify(arr, n, i):\n",
    "    largest = i\n",
    "    left = 2 * i + 1\n",
    "    right = 2 * i + 2\n",
    "\n",
    "    if left < n and arr[left] > arr[largest]:\n",
    "        largest = left\n",
    "    if right < n and arr[right] > arr[largest]:\n",
    "        largest = right\n",
    "    \n",
    "    if largest != i:\n",
    "        arr[i], arr[largest] = arr[largest], arr[i]\n",
    "        heapify(arr, n, largest)\n",
    "\n",
    "def build_heap(arr):\n",
    "    n = len(arr)\n",
    "    for i in range(n // 2 - 1, -1, -1):\n",
    "        heapify(arr, n, i)\n",
    "\n",
    "# Генерація масиву\n",
    "arr = [random.randint(1, 100) for _ in range(10)]\n",
    "print(\"Original array:\", arr)\n",
    "\n",
    "build_heap(arr)\n",
    "print(\"Heapified array:\", arr)"
   ]
  },
  {
   "cell_type": "markdown",
   "id": "cd849b3c-e6f4-4abd-9fcf-9546c696fff0",
   "metadata": {},
   "source": [
    "### 2.4. Додавання елемента"
   ]
  },
  {
   "cell_type": "code",
   "execution_count": 9,
   "id": "35e98c83-5469-4faa-bc71-2ab16ca319ce",
   "metadata": {},
   "outputs": [
    {
     "name": "stdout",
     "output_type": "stream",
     "text": [
      "Heap after inserting 3: [98, 85, 93, 82, 47, 11, 20, 70, 53, 20, 3]\n"
     ]
    }
   ],
   "source": [
    "def insert_heap(arr, key):\n",
    "    arr.append(key)\n",
    "    i = len(arr) - 1\n",
    "    while i > 0 and arr[(i - 1) // 2] < arr[i]:\n",
    "        arr[i], arr[(i - 1) // 2] = arr[(i - 1) // 2], arr[i]\n",
    "        i = (i - 1) // 2\n",
    "\n",
    "# Додавання елемента 3\n",
    "insert_heap(arr, 3)\n",
    "print(\"Heap after inserting 3:\", arr)"
   ]
  },
  {
   "cell_type": "markdown",
   "id": "025efb9e-f2b2-4234-b8ff-8837b1590a20",
   "metadata": {},
   "source": [
    "### 2.5. Видалення максимального елемента"
   ]
  },
  {
   "cell_type": "code",
   "execution_count": 10,
   "id": "cff65d6a-c0b8-4f91-8691-b22dfa0fd697",
   "metadata": {},
   "outputs": [
    {
     "name": "stdout",
     "output_type": "stream",
     "text": [
      "Максимальний елемент, вилучений з купи: 9\n",
      "Купа після вилучення максимального елемента: [7, 6, 5, 3, 1, 4]\n"
     ]
    }
   ],
   "source": [
    "def delete_max(arr):\n",
    "    n = len(arr)\n",
    "    if n == 0:\n",
    "        return None\n",
    "    arr[0], arr[-1] = arr[-1], arr[0]\n",
    "    max_val = arr.pop()\n",
    "    heapify(arr, len(arr), 0)\n",
    "    return max_val\n",
    "\n",
    "# Приклад масиву (купу)\n",
    "arr = [9, 7, 5, 3, 6, 4, 1]\n",
    "\n",
    "# Викликаємо функцію для видалення максимального елемента\n",
    "max_val = delete_max(arr)\n",
    "\n",
    "# Виводимо максимальний елемент та залишкову купу\n",
    "print(\"Максимальний елемент, вилучений з купи:\", max_val)\n",
    "print(\"Купа після вилучення максимального елемента:\", arr)\n"
   ]
  },
  {
   "cell_type": "markdown",
   "id": "5beece6e-3e09-4bf8-878e-b1bdd42cbc55",
   "metadata": {},
   "source": [
    "### 2.6. Асимптотична складність"
   ]
  },
  {
   "cell_type": "markdown",
   "id": "dcd34436-d4bd-4080-b3bd-187c95d9371d",
   "metadata": {},
   "source": [
    "| Операція | Середній випадок | Найгірший випадок | Пояснення |\n",
    "|----------|------------------|-------------------|-----------|\n",
    "| `search` | O(n)             | O(n)              | Потрібно переглянути всі вузли |\n",
    "| `insert` | O(log n)         | O(log n)          | Додавання + \"підіймання вгору\" (`heapify-up`) |\n",
    "| `delete` (корінь) | O(log n) | O(log n)          | Заміна кореня + \"просіювання вниз\" (`heapify-down`) |"
   ]
  },
  {
   "cell_type": "markdown",
   "id": "5b2a2021-8840-4ac1-9aa4-d0ea844b9903",
   "metadata": {},
   "source": [
    "## 3. Реалізація геш-таблиці в Python"
   ]
  },
  {
   "cell_type": "code",
   "execution_count": 11,
   "id": "54b241a3-43fe-43ce-931c-c453c32675be",
   "metadata": {},
   "outputs": [],
   "source": [
    "class HashTable:\n",
    "    def __init__(self, size=10):\n",
    "        self.size = size\n",
    "        self.table = [[] for _ in range(size)]\n",
    "    \n",
    "    def _hash(self, key):\n",
    "        return hash(key) % self.size\n",
    "    \n",
    "    def insert(self, key, value):\n",
    "        index = self._hash(key)\n",
    "        self.table[index].append((key, value))\n",
    "    \n",
    "    def search(self, key):\n",
    "        index = self._hash(key)\n",
    "        for k, v in self.table[index]:\n",
    "            if k == key:\n",
    "                return v\n",
    "        return None\n",
    "    \n",
    "    def delete(self, key):\n",
    "        index = self._hash(key)\n",
    "        for i, (k, v) in enumerate(self.table[index]):\n",
    "            if k == key:\n",
    "                del self.table[index][i]\n",
    "                return True\n",
    "        return False"
   ]
  },
  {
   "cell_type": "markdown",
   "id": "39ee9afb-e867-41c4-a13a-8ff40cf0ff53",
   "metadata": {},
   "source": [
    "### 3.1. Тестування з різними типами даних"
   ]
  },
  {
   "cell_type": "code",
   "execution_count": 12,
   "id": "aac9d1b6-7407-4646-a2f4-109efe5c46e1",
   "metadata": {},
   "outputs": [
    {
     "name": "stdout",
     "output_type": "stream",
     "text": [
      "one\n",
      "fruit\n",
      "list\n"
     ]
    }
   ],
   "source": [
    "# Приклад використання\n",
    "ht = HashTable()\n",
    "ht.insert(1, \"one\")\n",
    "ht.insert(\"apple\", \"fruit\")\n",
    "ht.insert(tuple([1, 2, 3]), \"list\")  # Використовуємо кортеж замість списку\n",
    "\n",
    "print(ht.search(1))  # \"one\"\n",
    "print(ht.search(\"apple\"))  # \"fruit\"\n",
    "print(ht.search(tuple([1, 2, 3])))  # \"list\""
   ]
  },
  {
   "cell_type": "markdown",
   "id": "32aff3af-3229-4a5e-9bfc-d88ffcbceda5",
   "metadata": {},
   "source": [
    "### 3.2. Вимірювання часу виконання"
   ]
  },
  {
   "cell_type": "code",
   "execution_count": 13,
   "id": "5c2cb58f-2d98-4873-9533-eb5ee90c1878",
   "metadata": {},
   "outputs": [
    {
     "name": "stdout",
     "output_type": "stream",
     "text": [
      "Insertion time: 0.0009984970092773438\n",
      "Search time: 0.003996610641479492\n",
      "Deletion time: 0.0010006427764892578\n"
     ]
    }
   ],
   "source": [
    "import time\n",
    "\n",
    "# Тестування часу вставки\n",
    "start = time.time()\n",
    "for i in range(1000):\n",
    "    ht.insert(i, i)\n",
    "print(\"Insertion time:\", time.time() - start)\n",
    "\n",
    "# Тестування часу пошуку\n",
    "start = time.time()\n",
    "for i in range(1000):\n",
    "    ht.search(i)\n",
    "print(\"Search time:\", time.time() - start)\n",
    "\n",
    "# Тестування часу видалення\n",
    "start = time.time()\n",
    "for i in range(1000):\n",
    "    ht.delete(i)\n",
    "print(\"Deletion time:\", time.time() - start)"
   ]
  },
  {
   "cell_type": "markdown",
   "id": "5a9fe7e3-5c8e-466b-aee0-147bc33aa261",
   "metadata": {},
   "source": [
    "### 3.3. Графік порівняння різних типів даних (треба скоротити код(не писати частини коду та методи, що вже були написані в звіті, а використовувати ті))"
   ]
  },
  {
   "cell_type": "code",
   "execution_count": 15,
   "id": "1221b309-515a-4ec1-9b01-83b9dae57919",
   "metadata": {},
   "outputs": [
    {
     "data": {
      "image/png": "[encoded data removed]",
      "text/plain": [
       "<Figure size 1000x600 with 1 Axes>"
      ]
     },
     "metadata": {},
     "output_type": "display_data"
    }
   ],
   "source": [
    "import time\n",
    "import matplotlib.pyplot as plt\n",
    "\n",
    "# Для тестування часу вставки, пошуку та видалення\n",
    "insertion_times = []\n",
    "search_times = []\n",
    "deletion_times = []\n",
    "\n",
    "# Тестування для різних кількостей елементів\n",
    "for n in range(100, 1001, 100):\n",
    "    ht = HashTable()\n",
    "\n",
    "    # Вставка\n",
    "    start = time.time()\n",
    "    for i in range(n):\n",
    "        ht.insert(i, i)\n",
    "    insertion_times.append(time.time() - start)\n",
    "\n",
    "    # Пошук\n",
    "    start = time.time()\n",
    "    for i in range(n):\n",
    "        ht.search(i)\n",
    "    search_times.append(time.time() - start)\n",
    "\n",
    "    # Видалення\n",
    "    start = time.time()\n",
    "    for i in range(n):\n",
    "        ht.delete(i)\n",
    "    deletion_times.append(time.time() - start)\n",
    "\n",
    "# Побудова графіку\n",
    "x = list(range(100, 1001, 100))\n",
    "\n",
    "plt.figure(figsize=(10, 6))\n",
    "plt.plot(x, insertion_times, label=\"Insertion Time\", marker='o')\n",
    "plt.plot(x, search_times, label=\"Search Time\", marker='s')\n",
    "plt.plot(x, deletion_times, label=\"Deletion Time\", marker='^')\n",
    "\n",
    "plt.xlabel(\"Number of Elements\")\n",
    "plt.ylabel(\"Time (seconds)\")\n",
    "plt.title(\"Hash Table Operation Times\")\n",
    "plt.legend()\n",
    "plt.grid(True)\n",
    "plt.tight_layout()\n",
    "plt.show()\n"
   ]
  },
  {
   "cell_type": "markdown",
   "id": "c36db714-ffd3-4a59-96c4-81c7a1168073",
   "metadata": {},
   "source": [
    "## 3. Контрольні питання"
   ]
  },
  {
   "cell_type": "markdown",
   "id": "d51360c4-3384-41d8-876e-e98a666f2308",
   "metadata": {},
   "source": [
    "### 1. Чим відрізняється структура *бінарне дерево* від *бінарного дерева пошуку*?"
   ]
  },
  {
   "cell_type": "markdown",
   "id": "9153d1b7-32dd-4b79-b168-7c9da3d8c81d",
   "metadata": {},
   "source": [
    "- **Бінарне дерево** — це дерево, в якому кожен вузол має не більше двох нащадків. Воно не обмежує порядок елементів.\n",
    "- **Бінарне дерево пошуку (BST)** — це спеціалізоване бінарне дерево, в якому для кожного вузла виконується умова: значення лівих нащадків менші за значення батьківського вузла, а значення правих нащадків більші. Це дозволяє здійснювати швидкий пошук, вставку та видалення елементів."
   ]
  },
  {
   "cell_type": "markdown",
   "id": "12a15a74-7820-4071-bc38-85140f6d756a",
   "metadata": {},
   "source": [
    "### 2. Чим відрізняється структура бінарне дерево від бінарної купи?"
   ]
  },
  {
   "cell_type": "markdown",
   "id": "da21934d-afd3-4c7e-bbe7-d2ec0f8e5d40",
   "metadata": {},
   "source": [
    "- **Бінарне дерево** не має обмежень на порядок елементів (крім властивості бінарного дерева пошуку), ієрархічне розташування елементів може бути будь-яким.\n",
    "- **Бінарна купа (heap)** — це спеціалізоване бінарне дерево, яке має додаткову властивість: для *max-heap* значення у вузлі *більше або рівні* значенням їхніх нащадків, а для min-heap — навпаки, значення у вузлі *менше або рівні* значенням їхніх нащадків. Купа використовується для ефективної реалізації черги з пріоритетами."
   ]
  },
  {
   "cell_type": "markdown",
   "id": "3cec0ac8-6c6c-4c9d-9dc9-03e781600645",
   "metadata": {},
   "source": [
    "### 3. Які існують типи дерев? Опишіть їхні основні характеристики та переваги."
   ]
  },
  {
   "cell_type": "markdown",
   "id": "76a1a89f-6cab-4e7e-91e5-fc48babc214b",
   "metadata": {},
   "source": [
    "- *Бінарне дерево пошуку (BST):* Час пошуку, вставки та видалення — O(log n) в середньому випадку. Головна перевага — швидкий пошук та обробка даних.\n",
    "- *Червоні-чорні дерева:* Самобалансуючі бінарні дерева пошуку. Час операцій — O(log n). Використовуються, коли важливо підтримувати баланс дерева.\n",
    "- *AVL-дерева:* Самобалансуючі бінарні дерева пошуку з додатковою умовою, що різниця висот лівого та правого піддерев не може перевищувати 1. Час операцій — O(log n).\n",
    "- *B-дерева:* Багатоелементні самобалансуючі дерева, що використовуються для зберігання великих обсягів даних, наприклад, у файлових системах та базах даних.\n",
    "- *Trie:* Дерево для зберігання набору рядків, часто використовується для ефективного пошуку в словниках чи автозавершення.\n",
    "- *Купи (heap):* Дерево, що підтримує властивість черги з пріоритетами. Використовується для реалізації алгоритмів типу Дейкстри, Хаффмана тощо."
   ]
  },
  {
   "cell_type": "markdown",
   "id": "4a298896-d44e-4228-b612-0ac9502edb45",
   "metadata": {},
   "source": [
    "### 4. Наведіть приклади задач, які ефективно вирішуються за допомогою дерев."
   ]
  },
  {
   "cell_type": "markdown",
   "id": "50a87682-4c81-44e7-b9c5-7e58f6e89643",
   "metadata": {},
   "source": [
    "- Пошук у впорядкованих наборах даних (наприклад, у бінарному дереві пошуку).\n",
    "- Організація та зберігання словників (за допомогою Trie).\n",
    "- Алгоритми на графах, такі як пошук найкоротшого шляху (наприклад, через використання бінарної купи).\n",
    "- Балансування даних для швидкого пошуку та вставки (наприклад, через червоно-чорні або AVL-дерева)."
   ]
  },
  {
   "cell_type": "markdown",
   "id": "a8ce4a2f-ea0b-4159-85d7-37f8dc826804",
   "metadata": {},
   "source": [
    "### 5. Як організована купа? Опишіть алгоритми додавання та вилучення елементів з купи."
   ]
  },
  {
   "cell_type": "markdown",
   "id": "b50552cb-9403-4ef4-abb5-15eb1e247237",
   "metadata": {},
   "source": [
    "**Організація:**\n",
    "    1. Зберігається як масив.\n",
    "    2. Лівий нащадок:  ```2i + 1```, правий: ```2i + 2```, батько: ```(i - 1) // 2```.\n",
    "    \n",
    "**Додавання (```insert```):**\n",
    "\n",
    "    - Додаємо новий елемент в кінець масиву.\n",
    "    - «Просіваємо вгору» (переміщуємо вгору, поки не виконується умова купи).\n",
    "    \n",
    "**Вилучення максимуму (```extract_max```):**\n",
    "\n",
    "    - Замінюємо корінь останнім елементом.\n",
    "    - Видаляємо останній елемент.\n",
    "    - «Просіваємо вниз» (переміщуємо новий корінь на відповідне місце)."
   ]
  },
  {
   "cell_type": "markdown",
   "id": "4484b9e6-d2c2-4120-8e51-94fbd283129d",
   "metadata": {},
   "source": [
    "### 6. Які задачі можна ефективно вирішити за допомогою купи? Наведіть приклади."
   ]
  },
  {
   "cell_type": "markdown",
   "id": "2ea86efa-dfb0-4d9f-b1ed-7823a658d302",
   "metadata": {},
   "source": [
    "- Черга з пріоритетами: Купа є ідеальним вибором для реалізації черги з пріоритетами, де елементи з вищим пріоритетом обробляються першими.\n",
    "- Алгоритм Дейкстри: Для пошуку найкоротших шляхів на графах з використанням черги з пріоритетами.\n",
    "- Алгоритм Хаффмана: Для побудови оптимального кодування в стисненні даних.\n",
    "- Злиття кількох відсортованих списків: Купа дозволяє ефективно об’єднати кілька відсортованих списків."
   ]
  },
  {
   "cell_type": "markdown",
   "id": "e9a5ef02-8fa4-496b-b479-c72aae2175b1",
   "metadata": {},
   "source": [
    "### 7. Як геш-функція використовується для зберігання та пошуку даних в хеш-таблиці?"
   ]
  },
  {
   "cell_type": "markdown",
   "id": "f94de533-c6f1-46f9-b232-1ead19664723",
   "metadata": {},
   "source": [
    "1. **Геш-функція** перетворює ключ (наприклад, рядок або число) у **індекс масиву**:\n",
    "\n",
    "    ```index = hash(key) % size```\n",
    "\n",
    "2. Елемент зберігається у хеш-таблиці за отриманим індексом.\n",
    "\n",
    "3. Для пошуку — знову обчислюється індекс за ключем, і зчитується значення з відповідної комірки:\n",
    "\n",
    "    ```value = table[hash(key) % size]```\n",
    "\n",
    ">  Це дозволяє здійснювати **вставку, пошук і видалення** елементів в **середньому за `O(1)`** часу.\n",
    ">\n",
    ">  Але при **колізіях** (коли різні ключі дають однаковий індекс) ефективність може знижуватися — для цього застосовують **методи вирішення колізій** (див. пункт 8).\n"
   ]
  },
  {
   "cell_type": "markdown",
   "id": "98806aaf-d0de-4c51-aca9-8c34432d8bc6",
   "metadata": {},
   "source": [
    "### 8. Опишіть методи вирішення колізій в хеш-таблицях. Які їхні переваги та недоліки?"
   ]
  },
  {
   "cell_type": "markdown",
   "id": "a1202e26-8c16-4a26-9bde-85262c3b2a3e",
   "metadata": {},
   "source": [
    "| Метод                   | Опис                                                                | Переваги                                         | Недоліки                                       |\n",
    "|------------------------|---------------------------------------------------------------------|--------------------------------------------------|------------------------------------------------|\n",
    "| **Зчеплення (chaining)** | У кожній комірці зберігається список зіткнувшихся елементів        | Простота реалізації, ефективність при розширенні | Використовує додаткову пам’ять (списки)        |\n",
    "| **Відкрите хешування**   | При колізії шукається нова вільна позиція у масиві                  | Працює без додаткових структур                    | Може виникнути **кластеризація** (групування)  |\n",
    "\n",
    ">  *Види відкритого хешування:*\n",
    "> - **Лінійне пробування** — перевірка наступних індексів.\n",
    "> - **Квадратичне пробування** — `i²` кроки.\n",
    "> - **Двійне хешування** — інша геш-функція для кроку."
   ]
  },
  {
   "cell_type": "code",
   "execution_count": null,
   "id": "f25a0760-9829-4d50-869e-51cf574dd4f8",
   "metadata": {},
   "outputs": [],
   "source": []
  }
 ],
 "metadata": {
  "kernelspec": {
   "display_name": "BoiaryntsovaPolina_OpenCV",
   "language": "python",
   "name": "boiaryntsovapolina_opencv"
  },
  "language_info": {
   "codemirror_mode": {
    "name": "ipython",
    "version": 3
   },
   "file_extension": ".py",
   "mimetype": "text/x-python",
   "name": "python",
   "nbconvert_exporter": "python",
   "pygments_lexer": "ipython3",
   "version": "3.10.16"
  }
 },
 "nbformat": 4,
 "nbformat_minor": 5
}

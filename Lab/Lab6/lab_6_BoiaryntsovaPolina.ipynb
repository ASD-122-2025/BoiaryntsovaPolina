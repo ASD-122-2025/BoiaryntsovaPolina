{
 "cells": [
  {
   "cell_type": "markdown",
   "id": "c7c93f2b-62e6-4f01-874f-004c3ef915bb",
   "metadata": {},
   "source": [
    "# Лабораторна робота №6\n",
    "## Тема: Структури даних стек і черга\n",
    "### Виконала: Бояринцова Поліна\n",
    "### Група: КН-24-1\n",
    "### Дата: 12.04.2025"
   ]
  },
  {
   "cell_type": "markdown",
   "id": "e907047e-de93-45af-b826-f5cde1d100da",
   "metadata": {},
   "source": [
    "## 1. Реалізація класу Stack:"
   ]
  },
  {
   "cell_type": "code",
   "execution_count": 2,
   "id": "1194b55e-efc3-44b9-b8d5-1758bf401533",
   "metadata": {},
   "outputs": [],
   "source": [
    "class Stack:\n",
    "    def __init__(self):\n",
    "        self.items = []\n",
    "\n",
    "    def isEmpty(self):\n",
    "        return self.items == []\n",
    "\n",
    "    def push(self, item):\n",
    "        self.items.append(item)\n",
    "\n",
    "    def pop(self):\n",
    "        return self.items.pop()\n",
    "\n",
    "    def peek(self):\n",
    "        return self.items[-1]\n",
    "\n",
    "    def size(self):\n",
    "        return len(self.items)"
   ]
  },
  {
   "cell_type": "code",
   "execution_count": 3,
   "id": "137eb9b2-2218-4341-8bda-ba2bd3577788",
   "metadata": {},
   "outputs": [
    {
     "name": "stdout",
     "output_type": "stream",
     "text": [
      "true\n"
     ]
    }
   ],
   "source": [
    "s = Stack()\n",
    "s.push('hello')\n",
    "s.push('true')\n",
    "print(s.pop())"
   ]
  },
  {
   "cell_type": "code",
   "execution_count": 4,
   "id": "b3b037fe-6471-42f0-a10b-f9b660c0938f",
   "metadata": {},
   "outputs": [
    {
     "name": "stdout",
     "output_type": "stream",
     "text": [
      "hello\n"
     ]
    }
   ],
   "source": [
    "print(s.pop())"
   ]
  },
  {
   "cell_type": "markdown",
   "id": "a51d35c2-e354-498d-98d1-8f6d8a01922e",
   "metadata": {},
   "source": [
    "### 1.1. Функція pop_n() для видалення елементів до номера n (С.р.) :"
   ]
  },
  {
   "cell_type": "code",
   "execution_count": 5,
   "id": "f2e6f9d5-2290-4121-89d1-81bf62f89f2c",
   "metadata": {},
   "outputs": [],
   "source": [
    "def pop_n(stack, n):\n",
    "    if n < 0 or n >= len(stack.items):\n",
    "        return \"Invalid index\"\n",
    "    for _ in range(n + 1):\n",
    "        stack.pop()"
   ]
  },
  {
   "cell_type": "markdown",
   "id": "157eeee5-6bcf-4256-a584-754ca4e5b542",
   "metadata": {},
   "source": [
    "### 1.2. оцінити асимптотичну складність (у середньому і в найгіршому разі) процедур search, insert і delete роботи зі стеком. (С.р.)"
   ]
  },
  {
   "cell_type": "markdown",
   "id": "83167038-6982-48fd-b269-d1702faad3e4",
   "metadata": {},
   "source": [
    "| Операція | В середньому | Найгірший випадок |\n",
    "|----------|---------------|--------------------|\n",
    "| Search   | Θ(n)          | O(n)               |\n",
    "| Insert   | Θ(1)          | O(1)               |\n",
    "| Delete   | Θ(1)          | O(1)               |"
   ]
  },
  {
   "cell_type": "markdown",
   "id": "002653df-84d3-4cf4-bf68-41fb6d7ff0bf",
   "metadata": {},
   "source": [
    "## 2. Реалізація класу Queue:"
   ]
  },
  {
   "cell_type": "code",
   "execution_count": 6,
   "id": "783d59f1-8a7b-4b48-8d2f-8db7096a880a",
   "metadata": {},
   "outputs": [],
   "source": [
    "class Queue:\n",
    "    def __init__(self):\n",
    "        self.items = []\n",
    "\n",
    "    def isEmpty(self):\n",
    "        return self.items == []\n",
    "\n",
    "    def enqueue(self, item):\n",
    "        self.items.insert(0, item)\n",
    "\n",
    "    def dequeue(self):\n",
    "        return self.items.pop()\n",
    "\n",
    "    def size(self):\n",
    "        return len(self.items)"
   ]
  },
  {
   "cell_type": "code",
   "execution_count": 7,
   "id": "eb13a97a-47e4-4812-b9eb-8389a88abf60",
   "metadata": {},
   "outputs": [
    {
     "data": {
      "text/plain": [
       "1"
      ]
     },
     "execution_count": 7,
     "metadata": {},
     "output_type": "execute_result"
    }
   ],
   "source": [
    "q = Queue()\n",
    "q.isEmpty()\n",
    "q.enqueue(2)\n",
    "q.isEmpty()\n",
    "q.size()"
   ]
  },
  {
   "cell_type": "code",
   "execution_count": 8,
   "id": "c7865b20-cdc7-4e8a-8936-0b0f2164f58e",
   "metadata": {},
   "outputs": [
    {
     "name": "stdout",
     "output_type": "stream",
     "text": [
      "[2]\n"
     ]
    }
   ],
   "source": [
    "print(q.items)"
   ]
  },
  {
   "cell_type": "markdown",
   "id": "807249df-983a-48c3-a14e-da2143a912a1",
   "metadata": {},
   "source": [
    "### 2.1. Функція print_n() для виведення елементів черги до номеру n (С.р.) :"
   ]
  },
  {
   "cell_type": "code",
   "execution_count": 9,
   "id": "6316fd6e-ff50-4098-8dd2-b16a563ad02f",
   "metadata": {},
   "outputs": [],
   "source": [
    "def print_n(queue, n):\n",
    "    if n < 0 or n >= len(queue.items):\n",
    "        return \"Invalid index\"\n",
    "    for i in range(n + 1):\n",
    "        print(queue.items[i])"
   ]
  },
  {
   "cell_type": "markdown",
   "id": "06d3cafa-8f5e-4149-8bef-f7ae3d98df95",
   "metadata": {},
   "source": [
    "### 2.2. оцінити асимптотичну складність (у середньому і в найгіршому разі) процедур search, insert і delete роботи з чергою."
   ]
  },
  {
   "cell_type": "markdown",
   "id": "b3f0d3fc-5240-4cc1-b66f-c9074b24a11c",
   "metadata": {},
   "source": [
    "| Операція | В середньому | Найгірший випадок |\n",
    "|----------|---------------|--------------------|\n",
    "| Search   | Θ(n)          | O(n)               |\n",
    "| Insert   | Θ(1)          | O(1)               |\n",
    "| Delete   | Θ(1)          | O(1)               |"
   ]
  },
  {
   "cell_type": "markdown",
   "id": "64969d75-e237-453c-9f05-f759833e4611",
   "metadata": {},
   "source": [
    "## 3. Контрольні питання"
   ]
  },
  {
   "cell_type": "markdown",
   "id": "16fa11fb-de1e-4f04-a886-f702dccdcf06",
   "metadata": {},
   "source": [
    "### 1. Що таке стек і які операції можна виконувати зі стеком?"
   ]
  },
  {
   "cell_type": "markdown",
   "id": "0ab84319-6ef0-4bfb-81ed-2a3a80c98ba5",
   "metadata": {},
   "source": [
    "Стек — це структура даних, що працює за принципом LIFO (Last In, First Out) - це означає, що останній елемент, який доданий в стек, – це перший елемент, який з нього виходить.\n",
    "Існує три основні операції, які можуть виконуватися в стеках: вставка елемента в стек (push), видалення елемента з стека (pop) і відображення вмісту стека (pip).\n",
    "У Python роботу зі стеком можна організувати за допомогою наступного набору методів для роботи зі стеком:\n",
    "\n",
    "- Stack() – створює новий пустий стек.\n",
    "- push(item) – додає новий елемент на вершину стека.\n",
    "- pop() – видаляє верхній елемент зі стека.\n",
    "- peek() – повертає верхній елемент стеку, але не видаляє його.\n",
    "- isEmpty() – перевіряє стек на пустоту.\n",
    "- size() – повертає кількість елементів у стеку."
   ]
  },
  {
   "cell_type": "markdown",
   "id": "558a217c-ea73-47f2-a094-565c3482ad57",
   "metadata": {},
   "source": [
    "### 2. Яка основна відмінність між стеком та чергою?"
   ]
  },
  {
   "cell_type": "markdown",
   "id": "ce648190-5b3f-4e19-a221-e6e970c72928",
   "metadata": {},
   "source": [
    "Стек працює за принципом LIFO (останній доданий — перший видалений), тоді як черга працює за принципом FIFO (перший доданий — перший видалений)."
   ]
  },
  {
   "cell_type": "markdown",
   "id": "08aa280e-f984-4838-9c21-8dcef9e7c990",
   "metadata": {},
   "source": [
    "### 3. Як ви можете реалізувати стек за допомогою масиву і за допомогою зв’язаного списку? Які переваги та недоліки кожного підходу?"
   ]
  },
  {
   "cell_type": "markdown",
   "id": "73af7d48-da9b-4faf-9645-3b985cae7ac9",
   "metadata": {},
   "source": [
    "- **Масив:** Простий у реалізації, але при необхідності збільшити розмір стека потрібно виділяти нову пам'ять.\n",
    "- **Зв'язаний список:** Динамічно виділяє пам'ять, тому розмір стека може бути необмеженим, але його реалізація складніша і вимагає додаткових ресурсів для зберігання вказівників."
   ]
  },
  {
   "cell_type": "markdown",
   "id": "03eb5f1b-ce14-4f78-a823-ae883520f888",
   "metadata": {},
   "source": [
    "### 4. Які є застосування стека та черги в програмуванні і реальному житті?"
   ]
  },
  {
   "cell_type": "markdown",
   "id": "e57541e4-fcff-49ca-8754-0bdd4d88e85b",
   "metadata": {},
   "source": [
    "- **Стек:** Використовується в алгоритмах пошуку, обробці рекурсивних функцій, зворотній обробці виразів (наприклад, інтерпретатори).\n",
    "- **Черга:** Використовується для обробки завдань у черзі (черги задач), моделювання черг у банках чи ресторанах."
   ]
  }
 ],
 "metadata": {
  "kernelspec": {
   "display_name": "BoiaryntsovaPolina_OpenCV",
   "language": "python",
   "name": "boiaryntsovapolina_opencv"
  },
  "language_info": {
   "codemirror_mode": {
    "name": "ipython",
    "version": 3
   },
   "file_extension": ".py",
   "mimetype": "text/x-python",
   "name": "python",
   "nbconvert_exporter": "python",
   "pygments_lexer": "ipython3",
   "version": "3.10.16"
  }
 },
 "nbformat": 4,
 "nbformat_minor": 5
}

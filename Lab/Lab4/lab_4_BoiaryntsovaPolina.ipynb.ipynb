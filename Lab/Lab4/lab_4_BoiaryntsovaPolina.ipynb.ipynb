{
 "cells": [
  {
   "cell_type": "markdown",
   "id": "4080fe06-ee48-48b8-9c82-d4f764f24994",
   "metadata": {},
   "source": [
    "# Лабораторна робота №4\n",
    "## Тема: Рекурсія. Стратегія «розділяй і володарюй»\n",
    "### Виконала: Бояринцова Поліна\n",
    "### Група: КН-24-1\n",
    "### Дата: 01.04.2025"
   ]
  },
  {
   "cell_type": "markdown",
   "id": "5d41cd14-2a97-48f2-8aca-7d0c22001262",
   "metadata": {},
   "source": [
    "## 1. Обчислення факторіалу\n",
    "### 1.1. Обчислення факторіала за допомогою цикла while (К.п.)"
   ]
  },
  {
   "cell_type": "code",
   "execution_count": 6,
   "id": "dd9c3b48-83ac-4961-bb7c-2b9e937162d1",
   "metadata": {},
   "outputs": [
    {
     "name": "stdout",
     "output_type": "stream",
     "text": [
      "120\n"
     ]
    }
   ],
   "source": [
    "def FacSimple(n):\n",
    "    # Обчислення факторіала за допомогою цикла while\n",
    "\n",
    "    factorial = 1\n",
    "    i = 1\n",
    "\n",
    "    while i <= n:\n",
    "        factorial *= i\n",
    "        i += 1\n",
    "\n",
    "    return factorial\n",
    "\n",
    "# Приклад виклику функції\n",
    "print(FacSimple(5))  # Виведе: 120\n"
   ]
  },
  {
   "cell_type": "markdown",
   "id": "74b5892e-de0f-44c0-ab10-1f1abe61296d",
   "metadata": {},
   "source": [
    "### 1.2. Обчислення факторіала за допомогою цикла for (С.р.)"
   ]
  },
  {
   "cell_type": "code",
   "execution_count": 7,
   "id": "f3a35c23-8364-4bb5-a2c5-d31507434e58",
   "metadata": {},
   "outputs": [
    {
     "data": {
      "text/plain": [
       "120"
      ]
     },
     "execution_count": 7,
     "metadata": {},
     "output_type": "execute_result"
    }
   ],
   "source": [
    "def fac_for(n):\n",
    "    factorial = 1\n",
    "    for i in range(1, n + 1):\n",
    "        factorial *= i\n",
    "    return factorial\n",
    "\n",
    "# Тестування:\n",
    "fac_for(5)  # Результат: 120\n"
   ]
  },
  {
   "cell_type": "markdown",
   "id": "11a5f33f-94f8-42e1-8842-c97fa18ace1c",
   "metadata": {},
   "source": [
    "#### Оцінити асимптотичну складність алгоритму."
   ]
  },
  {
   "cell_type": "markdown",
   "id": "358958ce-e356-4bcc-8024-55d29ce6869f",
   "metadata": {},
   "source": [
    "![fac_for](images/fac_for.jpg)"
   ]
  },
  {
   "cell_type": "markdown",
   "id": "e37fca36-7927-45ec-a003-22800bd34aa2",
   "metadata": {},
   "source": [
    "### 1.3. Обчислення факторіала через рекурсію (К.п.)"
   ]
  },
  {
   "cell_type": "code",
   "execution_count": 9,
   "id": "264f8a6c-ea8e-427b-90f6-760ef9d83829",
   "metadata": {},
   "outputs": [
    {
     "name": "stdin",
     "output_type": "stream",
     "text": [
      " 5\n"
     ]
    },
    {
     "name": "stdout",
     "output_type": "stream",
     "text": [
      "120\n"
     ]
    }
   ],
   "source": [
    "def fac(n):\n",
    "    # Обчислення факторіала через рекурсію\n",
    "    if n == 0:\n",
    "        return 1\n",
    "    return fac(n-1) * n\n",
    "\n",
    "# Введення числа\n",
    "n = int(input())\n",
    "\n",
    "# Виведення результату\n",
    "print(fac(n))\n"
   ]
  },
  {
   "cell_type": "markdown",
   "id": "4d31a1b7-876b-4b2b-aef6-4cbb2baa4e59",
   "metadata": {},
   "source": [
    "### 1.4 Пакет math мови Python має функцію для обчислення факторіалу (К.п.):"
   ]
  },
  {
   "cell_type": "code",
   "execution_count": 10,
   "id": "b5f64bd5-d645-43d2-bc7a-1ff385febfbe",
   "metadata": {},
   "outputs": [
    {
     "data": {
      "text/plain": [
       "120"
      ]
     },
     "execution_count": 10,
     "metadata": {},
     "output_type": "execute_result"
    }
   ],
   "source": [
    "import math\n",
    "\n",
    "math.factorial(5)"
   ]
  },
  {
   "cell_type": "markdown",
   "id": "8eb3848d-34fa-40e7-ade4-70d69b7d8adf",
   "metadata": {},
   "source": [
    "### 1.5 Оцінити асимптотичну складність рекурсивного алгоритму обчислення факторіалу. (С.р.)"
   ]
  },
  {
   "cell_type": "markdown",
   "id": "a962283e-3052-446b-b464-1b70910a5c49",
   "metadata": {},
   "source": [
    "![fac](images/fac.jpg)"
   ]
  },
  {
   "cell_type": "markdown",
   "id": "ab81bf93-7a5f-4190-89e3-317112549d85",
   "metadata": {},
   "source": [
    "![fac](images/fac_2.jpg)"
   ]
  },
  {
   "cell_type": "markdown",
   "id": "f73040e6-ee4f-4080-a353-9a7c025277f8",
   "metadata": {},
   "source": [
    "### 2. Обчислення чисел Фібоначчі"
   ]
  },
  {
   "cell_type": "markdown",
   "id": "a03c6036-8a2b-4aee-b28a-0a96b1e49aa5",
   "metadata": {},
   "source": [
    "### 2.1. Рекурсивне обчислення (К.п.)"
   ]
  },
  {
   "cell_type": "code",
   "execution_count": 12,
   "id": "89fb4e9f-6f1d-4cdf-8719-19c42f03a667",
   "metadata": {},
   "outputs": [
    {
     "name": "stdout",
     "output_type": "stream",
     "text": [
      "832040\n"
     ]
    }
   ],
   "source": [
    "def fibonacci(n):\n",
    "\n",
    "#Рекурсивне обчислення n-го числа Фібоначчі\n",
    "\n",
    "    if n == 0:\n",
    "        return 0\n",
    "    if n in (1, 2):\n",
    "        return 1\n",
    "    return fibonacci(n - 1) + fibonacci(n - 2)\n",
    "\n",
    "print(fibonacci(30))"
   ]
  },
  {
   "cell_type": "markdown",
   "id": "cd8482a6-620b-46f2-a7bf-1cff59281dce",
   "metadata": {},
   "source": [
    "### 2.2. Оцінити асимптотичну складність рекурсивного алгоритму обчислення n-го числа Фібоначчі. (С.р.)"
   ]
  },
  {
   "cell_type": "markdown",
   "id": "61d3049e-b80f-4aaa-b1d3-31a457d4aba6",
   "metadata": {},
   "source": [
    "![fibonacci](images/fibonacci.jpg)"
   ]
  },
  {
   "cell_type": "markdown",
   "id": "a9f0e773-1e73-4ccc-845c-7308c0616c9f",
   "metadata": {},
   "source": [
    "### 3. Сортування злиттям"
   ]
  },
  {
   "cell_type": "code",
   "execution_count": 16,
   "id": "694ce1c0-3c90-4330-b2e3-727d9b0a6c84",
   "metadata": {},
   "outputs": [
    {
     "name": "stdout",
     "output_type": "stream",
     "text": [
      "[1, 2, 3, 4, 5, 6, 7, 8]\n"
     ]
    }
   ],
   "source": [
    "def merge(left, right):\n",
    "    # Зливає два відсортованих масиви left і right у один\n",
    "    result = []\n",
    "    i, j = 0, 0\n",
    "    while i < len(left) and j < len(right):\n",
    "        if left[i] <= right[j]:\n",
    "            result.append(left[i])\n",
    "            i += 1\n",
    "        else:\n",
    "            result.append(right[j])\n",
    "            j += 1\n",
    "    \n",
    "    # Додаємо залишкові елементи\n",
    "    result += left[i:]\n",
    "    result += right[j:]\n",
    "    \n",
    "    return result\n",
    "\n",
    "def mergesort(lst):\n",
    "    # Рекурсивна функція сортування з використанням попередньої функції\n",
    "    if len(lst) < 2:\n",
    "        return lst\n",
    "    middle = len(lst) // 2\n",
    "    left = mergesort(lst[:middle])\n",
    "    right = mergesort(lst[middle:])\n",
    "    return merge(left, right)\n",
    "\n",
    "# Приклад масиву\n",
    "a = [6, 5, 3, 1, 8, 7, 2, 4]\n",
    "\n",
    "# Виклик функцій\n",
    "sorted_a = mergesort(a)\n",
    "print(sorted_a)  # Виведе: [1, 2, 3, 4, 5, 6, 7, 8]"
   ]
  },
  {
   "cell_type": "markdown",
   "id": "e2d02844-3419-4242-860f-46ebac9f061c",
   "metadata": {},
   "source": [
    "### 3.2. Оцінити асимптотичну складність алгоритму сортування злиттям, використовуючи головну теорему рекурсії. (С.р.)"
   ]
  },
  {
   "cell_type": "markdown",
   "id": "e97995f3-2cfd-440c-9c3d-e8f030e31186",
   "metadata": {},
   "source": [
    "![mergesort](images/mergesort.jpg)"
   ]
  },
  {
   "cell_type": "markdown",
   "id": "877987ab-b803-4263-9d5b-223a172afa00",
   "metadata": {},
   "source": [
    "---------\n",
    "#### Контрольні питання"
   ]
  },
  {
   "cell_type": "markdown",
   "id": "bc0ad3d4-585f-4655-b305-282e99515032",
   "metadata": {},
   "source": [
    "#### 1. Надати визначення складності задачі із символом Ω."
   ]
  },
  {
   "cell_type": "markdown",
   "id": "4a00c0c9-9426-481f-a33d-69a756212f7d",
   "metadata": {},
   "source": [
    "Ω-нотація описує найкращу можливу асимптотику алгоритму, тобто мінімальний час, який потрібен для виконання задачі. Якщо ми говоримо, що складність алгоритму є Ω(f(n)), то це означає, що для великих значень n час виконання алгоритму буде не меншим за f(n)."
   ]
  },
  {
   "cell_type": "markdown",
   "id": "c895733f-39d2-4e22-9bb5-44d2a4c2e820",
   "metadata": {},
   "source": [
    "#### 2. Функція часової складності має вигляд: $F(N) = N^3 + 7N^2 − 14N$. Як записати асимптотичну складність у O-нотації? "
   ]
  },
  {
   "cell_type": "markdown",
   "id": "93db04b6-ba42-4eac-860a-3a7af19caa5f",
   "metadata": {},
   "source": [
    "Складність цієї функції в O-нотації буде $O(N^3)$, оскільки найбільший степінь $N^3$ домінує для великих значень N."
   ]
  },
  {
   "cell_type": "markdown",
   "id": "f77cf23e-723c-4482-9e67-b2fcc3339f2f",
   "metadata": {},
   "source": [
    "#### 3. Функція часової складності має вигляд: $F(N) = 1.01N + N^{10}$. Як записати асимптотичну складність у O-нотації?"
   ]
  },
  {
   "cell_type": "markdown",
   "id": "a523b7b1-b68a-4b4f-9238-a29ae8d1f60a",
   "metadata": {},
   "source": [
    "Складність цієї функції в O-нотації буде $O(N^{10})$, оскільки найбільший степінь $N^{10}$ домінує для великих значень N."
   ]
  },
  {
   "cell_type": "markdown",
   "id": "f9513524-d0d9-4202-a6c4-5e7a74883c31",
   "metadata": {},
   "source": [
    "#### 4. Функція часової складності має вигляд: $F(N) = N^{1.3} + 10 \\log_2(N)$. Як записати асимптотичну складність у O-нотації?"
   ]
  },
  {
   "cell_type": "markdown",
   "id": "ca17156a-77ab-4ec4-be96-9f76995db5c3",
   "metadata": {},
   "source": [
    "Оскільки $N^{1.3}$ зростає швидше за $\\log_2(N)$, складність буде $\\log_2(N)$."
   ]
  },
  {
   "cell_type": "markdown",
   "id": "1bad9c07-d456-407d-a9f1-12bc4a947b9b",
   "metadata": {},
   "source": [
    "#### 5. У чому полягає ідея розпаралелювання обчислень і для чого вона використовується? Які з алгоритмів, наведених у цій лабораторній роботі, дозволяють можливість розпаралелювання?"
   ]
  },
  {
   "cell_type": "markdown",
   "id": "eb508002-ee82-4473-a681-d5f2ae2f6a89",
   "metadata": {},
   "source": [
    "Розпаралелювання дозволяє виконувати кілька частин алгоритму одночасно на різних процесорах чи ядрах, що підвищує швидкість виконання. Алгоритми, які можна розпаралелити, це сортування злиттям (merge sort) та обчислення факторіалу за допомогою рекурсії."
   ]
  },
  {
   "cell_type": "markdown",
   "id": "0e5bf4ea-323b-4a32-9c35-f59c6165a327",
   "metadata": {},
   "source": [
    "#### 6. Які існують способи підвищення обчислювальної швидкості алгоритмів? Який з них є найефективнішим?"
   ]
  },
  {
   "cell_type": "markdown",
   "id": "38568fdf-3c31-47e1-b128-7294a371024a",
   "metadata": {},
   "source": [
    "Основні способи підвищення швидкості включають паралелізацію, використання більш ефективних алгоритмів, кешування та оптимізацію коду. Найефективнішим є вибір оптимальних алгоритмів, таких як сортування злиттям замість бульбашкового сортування."
   ]
  }
 ],
 "metadata": {
  "kernelspec": {
   "display_name": "BoiaryntsovaPolina_OpenCV",
   "language": "python",
   "name": "boiaryntsovapolina_opencv"
  },
  "language_info": {
   "codemirror_mode": {
    "name": "ipython",
    "version": 3
   },
   "file_extension": ".py",
   "mimetype": "text/x-python",
   "name": "python",
   "nbconvert_exporter": "python",
   "pygments_lexer": "ipython3",
   "version": "3.10.16"
  }
 },
 "nbformat": 4,
 "nbformat_minor": 5
}
